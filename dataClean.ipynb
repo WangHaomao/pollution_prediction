{
 "cells": [
  {
   "cell_type": "code",
   "execution_count": 8,
   "metadata": {},
   "outputs": [],
   "source": [
    "# data engineer\n",
    "import pandas as pd\n",
    "import numpy as np\n",
    "from xlrd import open_workbook\n",
    "import csv\n",
    "import json\n",
    "import math\n",
    "import queue\n",
    "from pprint import pprint\n",
    "from sklearn.ensemble import IsolationForest\n",
    "import datetime\n",
    "from tqdm import tqdm\n",
    "FILE_FOLDER = '../prediction_data/%s'\n",
    "AFTER_FILE_FOLDER = '../prediction_data/afterAnalysis/%s'\n",
    "def pp_columns(df):pprint(df.columns)"
   ]
  },
  {
   "cell_type": "markdown",
   "metadata": {},
   "source": [
    "# Generate AirQuality stations information from excel  to csv\n",
    "### new file name as \"aq_stations.csv\""
   ]
  },
  {
   "cell_type": "code",
   "execution_count": 22,
   "metadata": {},
   "outputs": [
    {
     "data": {
      "text/html": [
       "<div>\n",
       "<style scoped>\n",
       "    .dataframe tbody tr th:only-of-type {\n",
       "        vertical-align: middle;\n",
       "    }\n",
       "\n",
       "    .dataframe tbody tr th {\n",
       "        vertical-align: top;\n",
       "    }\n",
       "\n",
       "    .dataframe thead th {\n",
       "        text-align: right;\n",
       "    }\n",
       "</style>\n",
       "<table border=\"1\" class=\"dataframe\">\n",
       "  <thead>\n",
       "    <tr style=\"text-align: right;\">\n",
       "      <th></th>\n",
       "      <th>stationId</th>\n",
       "      <th>latitude</th>\n",
       "      <th>longitude</th>\n",
       "      <th>stationType</th>\n",
       "    </tr>\n",
       "  </thead>\n",
       "  <tbody>\n",
       "    <tr>\n",
       "      <th>0</th>\n",
       "      <td>dongsi_aq</td>\n",
       "      <td>39.929</td>\n",
       "      <td>116.417</td>\n",
       "      <td>Urban Stations</td>\n",
       "    </tr>\n",
       "    <tr>\n",
       "      <th>1</th>\n",
       "      <td>tiantan_aq</td>\n",
       "      <td>39.886</td>\n",
       "      <td>116.407</td>\n",
       "      <td>Urban Stations</td>\n",
       "    </tr>\n",
       "    <tr>\n",
       "      <th>2</th>\n",
       "      <td>guanyuan_aq</td>\n",
       "      <td>39.929</td>\n",
       "      <td>116.339</td>\n",
       "      <td>Urban Stations</td>\n",
       "    </tr>\n",
       "    <tr>\n",
       "      <th>3</th>\n",
       "      <td>wanshouxigong_aq</td>\n",
       "      <td>39.878</td>\n",
       "      <td>116.352</td>\n",
       "      <td>Urban Stations</td>\n",
       "    </tr>\n",
       "    <tr>\n",
       "      <th>4</th>\n",
       "      <td>aotizhongxin_aq</td>\n",
       "      <td>39.982</td>\n",
       "      <td>116.397</td>\n",
       "      <td>Urban Stations</td>\n",
       "    </tr>\n",
       "  </tbody>\n",
       "</table>\n",
       "</div>"
      ],
      "text/plain": [
       "          stationId  latitude  longitude     stationType\n",
       "0         dongsi_aq    39.929    116.417  Urban Stations\n",
       "1        tiantan_aq    39.886    116.407  Urban Stations\n",
       "2       guanyuan_aq    39.929    116.339  Urban Stations\n",
       "3  wanshouxigong_aq    39.878    116.352  Urban Stations\n",
       "4   aotizhongxin_aq    39.982    116.397  Urban Stations"
      ]
     },
     "execution_count": 22,
     "metadata": {},
     "output_type": "execute_result"
    }
   ],
   "source": [
    "wb = open_workbook(FILE_FOLDER%'Beijing_AirQuality_Stations_en.xlsx')\n",
    "sheet_names = wb.sheet_names()\n",
    "sheet = wb.sheet_by_name(sheet_names[0])\n",
    "number_of_rows = sheet.nrows\n",
    "number_of_columns = sheet.ncols\n",
    "\n",
    "stationId = []\n",
    "longitude = []\n",
    "latitude = []\n",
    "stationType = [] \n",
    "current_type = ''\n",
    "for row in range(11, number_of_rows):\n",
    "    if(sheet.cell(row,0).value == ''):\n",
    "        continue\n",
    "    elif(row in [12-1,26-1,39-1,48-1]):\n",
    "        current_type = sheet.cell(row,0).value\n",
    "    else:\n",
    "        stationId.append(sheet.cell(row,0).value)\n",
    "        longitude.append(sheet.cell(row,1).value)\n",
    "        latitude.append(sheet.cell(row,2).value)\n",
    "        stationType.append(current_type)\n",
    "D = {\n",
    "    'stationId':pd.Series(stationId),\n",
    "    'latitude':pd.Series(latitude),\n",
    "    'longitude':pd.Series(longitude),\n",
    "    'stationType':pd.Series(stationType),\n",
    "}\n",
    "df_aq_station = pd.DataFrame(D)\n",
    "df_aq_station.head()\n",
    "# df_aq_station.to_csv(AFTER_FILE_FOLDER%'aq_stations.csv',index=False)"
   ]
  },
  {
   "cell_type": "markdown",
   "metadata": {},
   "source": [
    "# Generate weather stations information from json(from html)  to csv\n",
    "### new file name as \"w_stations.csv\""
   ]
  },
  {
   "cell_type": "code",
   "execution_count": 43,
   "metadata": {},
   "outputs": [
    {
     "data": {
      "text/html": [
       "<div>\n",
       "<style scoped>\n",
       "    .dataframe tbody tr th:only-of-type {\n",
       "        vertical-align: middle;\n",
       "    }\n",
       "\n",
       "    .dataframe tbody tr th {\n",
       "        vertical-align: top;\n",
       "    }\n",
       "\n",
       "    .dataframe thead th {\n",
       "        text-align: right;\n",
       "    }\n",
       "</style>\n",
       "<table border=\"1\" class=\"dataframe\">\n",
       "  <thead>\n",
       "    <tr style=\"text-align: right;\">\n",
       "      <th></th>\n",
       "      <th>stationId</th>\n",
       "      <th>latitude</th>\n",
       "      <th>longitude</th>\n",
       "    </tr>\n",
       "  </thead>\n",
       "  <tbody>\n",
       "    <tr>\n",
       "      <th>0</th>\n",
       "      <td>shunyi_meo</td>\n",
       "      <td>40.126667</td>\n",
       "      <td>116.615278</td>\n",
       "    </tr>\n",
       "    <tr>\n",
       "      <th>1</th>\n",
       "      <td>hadian_meo</td>\n",
       "      <td>39.986944</td>\n",
       "      <td>116.290556</td>\n",
       "    </tr>\n",
       "    <tr>\n",
       "      <th>2</th>\n",
       "      <td>yanqing_meo</td>\n",
       "      <td>40.449444</td>\n",
       "      <td>115.968889</td>\n",
       "    </tr>\n",
       "    <tr>\n",
       "      <th>3</th>\n",
       "      <td>miyun_meo</td>\n",
       "      <td>40.377500</td>\n",
       "      <td>116.864167</td>\n",
       "    </tr>\n",
       "    <tr>\n",
       "      <th>4</th>\n",
       "      <td>huairou_meo</td>\n",
       "      <td>40.357778</td>\n",
       "      <td>116.626944</td>\n",
       "    </tr>\n",
       "  </tbody>\n",
       "</table>\n",
       "</div>"
      ],
      "text/plain": [
       "     stationId   latitude   longitude\n",
       "0   shunyi_meo  40.126667  116.615278\n",
       "1   hadian_meo  39.986944  116.290556\n",
       "2  yanqing_meo  40.449444  115.968889\n",
       "3    miyun_meo  40.377500  116.864167\n",
       "4  huairou_meo  40.357778  116.626944"
      ]
     },
     "execution_count": 43,
     "metadata": {},
     "output_type": "execute_result"
    }
   ],
   "source": [
    "from pprint import pprint\n",
    "json_data_file = AFTER_FILE_FOLDER%'meo_data.json'\n",
    "with open(json_data_file) as f:\n",
    "    data = json.load(f)\n",
    "\n",
    "w_station_name = []\n",
    "w_longitude = []\n",
    "w_latitude = []\n",
    "for ele in data['data']:\n",
    "    w_station_name.append(ele['name'].split(':')[0].replace(' ',''))\n",
    "    w_longitude.append(ele['lnglat'][0])\n",
    "    w_latitude.append(ele['lnglat'][1])\n",
    "    \n",
    "w_d = {\n",
    "    'stationId':pd.Series(w_station_name),\n",
    "    'latitude':pd.Series(w_latitude),\n",
    "    'longitude':pd.Series(w_longitude)\n",
    "}\n",
    "df_observed_weather_stations = pd.DataFrame(w_d)\n",
    "# df_observed_weather_stations.to_csv(AFTER_FILE_FOLDER%'ob_weather_stations.csv',index=False)\n",
    "df_observed_weather_stations.head()\n",
    "#     pprint(ele['lnglat'][0])"
   ]
  },
  {
   "cell_type": "markdown",
   "metadata": {},
   "source": [
    "# loading grid information"
   ]
  },
  {
   "cell_type": "code",
   "execution_count": 54,
   "metadata": {},
   "outputs": [],
   "source": [
    "file_name = FILE_FOLDER%'Beijing_grid_weather_station.csv'\n",
    "# df_grid_stations = pd.read_csv(FILE_FOLDER%'Beijing_grid_weather_station.csv')\n",
    "# df_grid_stations.head()\n",
    "\n",
    "with open(file_name) as csvfile:\n",
    "    spamreader = csv.reader(csvfile)\n",
    "    # print(list(spamreader)\n",
    "    df_grid_stations = pd.DataFrame(data= list(spamreader),columns=['gridStationId','latitude','longitude'])\n",
    "csvfile.close()\n",
    "df_grid_stations.head()\n",
    "# df_grid_stations.to_csv(AFTER_FILE_FOLDER%'grid_stations.csv',index=False)"
   ]
  },
  {
   "cell_type": "markdown",
   "metadata": {},
   "source": [
    "# "
   ]
  },
  {
   "cell_type": "code",
   "execution_count": 4,
   "metadata": {},
   "outputs": [],
   "source": [
    "df_aq_stations = pd.read_csv(AFTER_FILE_FOLDER%'aq_stations.csv')\n",
    "df_observed_weather_stations = pd.read_csv(AFTER_FILE_FOLDER%'ob_weather_stations.csv')\n",
    "df_grid_stations = pd.read_csv(AFTER_FILE_FOLDER%'grid_stations.csv')"
   ]
  },
  {
   "cell_type": "markdown",
   "metadata": {},
   "source": [
    "# For each air quality station, select n closest observed weather stations and m m grid weather stations.\n",
    "\n",
    "#### n + m weather information --> manually analysis ( or other scientific methods) --> air quality station weather information\n",
    "#### air quality station weather information --> neural network model --> pollution results"
   ]
  },
  {
   "cell_type": "markdown",
   "metadata": {},
   "source": [
    "# Change two queues to one (Select N closest weather stations from observed and grid sations )"
   ]
  },
  {
   "cell_type": "code",
   "execution_count": 2,
   "metadata": {},
   "outputs": [],
   "source": [
    "def point_dis_square(x1, y1, x2, y2):\n",
    "    dis = (x1 * 1.0 - x2) * (x1 * 1.0 - x2) + (y1 * 1.0 - y2) * (y1 * 1.0 - y2)\n",
    "    return math.sqrt(dis)\n",
    "\n",
    "def get_nearest_stations():\n",
    "    df_aq_stations = pd.read_csv(AFTER_FILE_FOLDER % 'aq_stations.csv')\n",
    "    df_observed_weather_stations = pd.read_csv(AFTER_FILE_FOLDER % 'ob_weather_stations.csv')\n",
    "    df_grid_stations = pd.read_csv(AFTER_FILE_FOLDER % 'grid_stations.csv')\n",
    "\n",
    "    aq_len = len(df_aq_stations.stationId)\n",
    "    ow_len = len(df_observed_weather_stations.stationId)\n",
    "    grid_len = len(df_grid_stations.gridStationId)\n",
    "\n",
    "    closest_num = 10\n",
    "    aq_closest_dict = {}\n",
    "\n",
    "    for i in range(aq_len):\n",
    "\n",
    "        aq_stationId = df_aq_stations.stationId[i]\n",
    "\n",
    "        aq_la = df_aq_stations.latitude[i]\n",
    "        aq_lo = df_aq_stations.longitude[i]\n",
    "        aq_closest_dict[aq_stationId] = []\n",
    "        aq_q = queue.PriorityQueue()\n",
    "\n",
    "        for j in range(grid_len):\n",
    "            grid_la = df_grid_stations.latitude[j]\n",
    "            grid_lo = df_grid_stations.longitude[j]\n",
    "            stationId = df_grid_stations.gridStationId[j]\n",
    "\n",
    "            y = (point_dis_square(aq_la, aq_lo, grid_la, grid_lo))\n",
    "            if (aq_q.qsize() < closest_num):\n",
    "                aq_q.put((-1.0 * y, stationId))\n",
    "            else:\n",
    "                if (aq_q.queue[0][0] < -1.0 * y):\n",
    "                    aq_q.get()\n",
    "                    aq_q.put((-1.0 * y, stationId))\n",
    "\n",
    "        for j in range(ow_len):\n",
    "\n",
    "            ow_la = df_observed_weather_stations.latitude[j]\n",
    "            ow_lo = df_observed_weather_stations.longitude[j]\n",
    "            stationId = df_observed_weather_stations.stationId[j]\n",
    "            y = ((point_dis_square(aq_la, aq_lo, ow_la, ow_lo)))\n",
    "\n",
    "            if (aq_q.qsize() < closest_num):\n",
    "                aq_q.put((-1.0 * y, stationId))\n",
    "            else:\n",
    "                if (aq_q.queue[0][0] < -1.0 * y):\n",
    "                    aq_q.get()\n",
    "                    aq_q.put((-1.0 * y, stationId))\n",
    "\n",
    "        while (not aq_q.empty()):\n",
    "            current_ele = aq_q.get()\n",
    "            aq_closest_dict[aq_stationId].append((-1*current_ele[0],current_ele[1]))\n",
    "        # pprint(aq_closest_dict[aq_stationId])\n",
    "\n",
    "    return aq_closest_dict,df_aq_stations"
   ]
  },
  {
   "cell_type": "markdown",
   "metadata": {},
   "source": [
    "# Generate features for each airQuality stations by N nearest stations"
   ]
  },
  {
   "cell_type": "markdown",
   "metadata": {},
   "source": [
    "# Pick up related features"
   ]
  },
  {
   "cell_type": "code",
   "execution_count": 63,
   "metadata": {},
   "outputs": [],
   "source": [
    "def tupleArry_to_list(tupleArry, i_ele):\n",
    "    if(i_ele == 0):\n",
    "        w_list = list(map(lambda x:1.0 / x[i_ele],tupleArry))\n",
    "        return w_list\n",
    "#         w_sum = sum(w_list)\n",
    "#         return list(map(lambda x:x*1.0/w_list,w_list))\n",
    "    return list(map(lambda x:x[i_ele],tupleArry))\n",
    "\n",
    "def get_mean_without_outliers(df, feature_name):\n",
    "    df_sub = df.copy()\n",
    "    pre_mean = df_sub[feature_name].mean()\n",
    "    \"\"\"remove abs(num - mean) / mean > 50%\"\"\"\n",
    "    df_sub = df_sub[np.abs((df_sub[feature_name] - df_sub[feature_name].mean())/pre_mean) <= 0.5]\n",
    "#     print(df_sub)\n",
    "    df_nearest_3 = df_sub.tail(3)\n",
    "    \n",
    "    weight_sum = df_nearest_3['weight'].sum()\n",
    "    df_nearest_3['weight'] = df_nearest_3['weight'] / weight_sum\n",
    "    df_nearest_3['after_weighted'] = df_nearest_3['weight'] * df_sub[feature_name]\n",
    "#     print(df_nearest_3)\n",
    "#     print(df_nearest_3['after_weighted'].sum())\n",
    "    return np.around(df_nearest_3['after_weighted'].sum(), decimals=2)\n",
    "\n",
    "def split_stations(all_stations):\n",
    "    \n",
    "    meo_l = []\n",
    "    grid_l = []\n",
    "    for i in all_stations:\n",
    "        if('_meo' in i):\n",
    "            meo_l.append(i)\n",
    "        else: grid_l.append(i)\n",
    "    return meo_l,grid_l\n",
    "            \n",
    "    \n",
    "# def generate_features_for_aqStations(aq_closest_dict,df_grid_stations,df_ow_stations,df_aqLabels):\n",
    "def generate_features_for_aqStations(aq_closest_dict,df_grid,df_ow):\n",
    "    starttime = datetime.datetime.now()\n",
    "    \n",
    "    df_grid_stations = df_grid.set_index(['station_id'])\n",
    "    df_ow_stations = df_ow.set_index(['station_id'])\n",
    "    dict_making = {\n",
    "        'aq_station_id':[],\n",
    "        'temperature':[],\n",
    "        'humidity':[],\n",
    "        'pressure':[],\n",
    "        'wind_speed':[],\n",
    "        'time':[]\n",
    "    }\n",
    "    \n",
    "    for aq_station_id,aq_station_value in tqdm(aq_closest_dict.items(),total=len(aq_closest_dict)):\n",
    "#     for aq_station_id,aq_station_value in aq_closest_dict.items():\n",
    "        stationId_list = tupleArry_to_list(aq_station_value, 1)\n",
    "        weight_dis = tupleArry_to_list(aq_station_value, 0)\n",
    "        \n",
    "        ow_s,grid_s = split_stations(stationId_list)\n",
    "        \n",
    "        df_grid_temp = df_grid_stations.loc[grid_s].reset_index().set_index(['time'])\n",
    "        df_ow_temp = df_ow_stations.loc[ow_s].reset_index().set_index(['time'])\n",
    "        time_span = grid_time_span\n",
    "        \n",
    "        grid_time_span = df_grid_stations['time'].unique().tolist()\n",
    "        \n",
    "        for t_hour in time_span:\n",
    "            df_grid_inOneHour = df_grid_temp.loc[t_hour]\n",
    "            try:\n",
    "                df_ow_inOneHour = df_ow_temp.loc[t_hour]\n",
    "            except:\n",
    "                df_ow_inOneHour = pd.DataFrame(columns=df_ow_temp.columns)\n",
    "            df_merged = df_grid_inOneHour.append(df_ow_inOneHour)\n",
    "            df_merged.station_id = df_merged.station_id.astype(\"category\")\n",
    "            df_merged.station_id.cat.set_categories(stationId_list, inplace=True)\n",
    "            df_merged = df_merged.sort_values(['station_id']).reset_index()\n",
    "            df_merged['weight'] = pd.Series(weight_dis)\n",
    "            dict_making['aq_station_id'].append(aq_station_id)\n",
    "            for f_name in ['temperature', 'pressure', 'humidity', 'wind_speed']:\n",
    "                try:\n",
    "                    new_f = get_mean_without_outliers(df_merged[[f_name,'weight']],f_name)\n",
    "                    dict_making[f_name].append(new_f)\n",
    "                except:\n",
    "                    print(aq_station_id,'at',t_hour,'is NAN')\n",
    "                    dict_making[f_name].append(np.nan)\n",
    "            dict_making['time'].append(t_hour)\n",
    "    endtime = datetime.datetime.now()\n",
    "\n",
    "    print('cost time:',(endtime - starttime).seconds)\n",
    "    new_df = pd.DataFrame.from_dict(dict_making)\n",
    "#     print(new_df)\n",
    "    return new_df\n",
    "    \n",
    "# df_17_whole = generate_features_for_aqStations(aq_nearest_dict,\n",
    "#                                                 df_grid_17,\n",
    "#                                                 df_ow_stations_1701_1801)\n",
    "# df_04 = generate_features_for_aqStations(aq_nearest_dict,df_grid_stations_04,df_ow_stations_04)\n",
    "# df_04"
   ]
  },
  {
   "cell_type": "code",
   "execution_count": null,
   "metadata": {},
   "outputs": [],
   "source": []
  },
  {
   "cell_type": "markdown",
   "metadata": {},
   "source": [
    "# Gerate features from 17-(3 to 7) and 18-(3 and 4)"
   ]
  },
  {
   "cell_type": "markdown",
   "metadata": {},
   "source": [
    "# 17 01 - 18 01"
   ]
  },
  {
   "cell_type": "code",
   "execution_count": 4,
   "metadata": {},
   "outputs": [
    {
     "name": "stdout",
     "output_type": "stream",
     "text": [
      "Index(['station_id', 'longitude', 'latitude', 'utc_time', 'temperature',\n",
      "       'pressure', 'humidity', 'wind_direction', 'wind_speed', 'weather'],\n",
      "      dtype='object')\n"
     ]
    }
   ],
   "source": [
    "df_grid_stations_1701_1803 = pd.read_csv(FILE_FOLDER%'gridWeather_201701-201803.csv')\n",
    "df_ow_stations_1701_1801 = pd.read_csv(FILE_FOLDER%'observedWeather_201701-201801.csv')\n",
    "print(df_ow_stations_1701_1801.columns)\n",
    "df_ow_stations_1701_1801['datetime'] = pd.to_datetime(df_ow_stations_1701_1801['utc_time'])\n",
    "df_grid_stations_1701_1803['datetime'] = pd.to_datetime(df_grid_stations_1701_1803['utc_time'])\n",
    "# df_ow_stations_1701_1801.drop('utc_time',)\n",
    "# print(len(df_ow_stations_1701_1801))"
   ]
  },
  {
   "cell_type": "code",
   "execution_count": 14,
   "metadata": {},
   "outputs": [],
   "source": [
    "# len(df_grid_stations_1701_1803)\n",
    "# df_ow_stations_1701_1801\n",
    "# df_grid_stations_1701_1803[-3:-1]"
   ]
  },
  {
   "cell_type": "code",
   "execution_count": 18,
   "metadata": {},
   "outputs": [
    {
     "name": "stdout",
     "output_type": "stream",
     "text": [
      "Index(['station_id', 'longitude', 'latitude', 'time', 'temperature',\n",
      "       'pressure', 'humidity', 'wind_direction', 'wind_speed', 'weather',\n",
      "       'datetime'],\n",
      "      dtype='object')\n",
      "Index(['station_id', 'longitude', 'latitude', 'time', 'temperature',\n",
      "       'pressure', 'humidity', 'wind_direction', 'wind_speed', 'datetime'],\n",
      "      dtype='object')\n",
      "Index(['station_id', 'temperature', 'pressure', 'humidity', 'wind_speed',\n",
      "       'time', 'datetime'],\n",
      "      dtype='object')\n",
      "Index(['station_id', 'temperature', 'pressure', 'humidity', 'wind_speed',\n",
      "       'time', 'datetime'],\n",
      "      dtype='object')\n"
     ]
    }
   ],
   "source": [
    "# start_date = '2017-03-01 00:00:00'\n",
    "end_date = '2018-02-01 00:00:00'\n",
    "\n",
    "# start_date_18 = '2018-03-01 00:00:00'\n",
    "selected_features = ['station_id', 'temperature', 'pressure','humidity', 'wind_speed', 'time', 'datetime']\n",
    "\n",
    "df_grid_17 = df_grid_stations_1701_1803[df_grid_stations_1701_1803['datetime'] < end_date]\n",
    "df_ow_stations_1701_1801.columns = ['station_id', 'longitude', 'latitude', 'time', 'temperature',\n",
    "       'pressure', 'humidity', 'wind_direction', 'wind_speed', 'weather',\n",
    "       'datetime']\n",
    "print(df_ow_stations_1701_1801.columns)\n",
    "\n",
    "df_grid_17.columns = ['station_id', 'longitude', 'latitude', 'time', 'temperature',\n",
    "       'pressure', 'humidity', 'wind_direction', 'wind_speed', 'datetime']\n",
    "print(df_grid_17.columns)\n",
    "\n",
    "df_ow_stations_1701_1801 = df_ow_stations_1701_1801[selected_features]\n",
    "print(df_ow_stations_1701_1801.columns)\n",
    "\n",
    "df_grid_17 = df_grid_17[selected_features]\n",
    "print(df_grid_17.columns)\n",
    "\n",
    "\n",
    "# df_ow_stations_1703_1707 = df_ow_stations_1701_1801[\n",
    "#     (df_ow_stations_1701_1801['datetime'] < end_date) &\n",
    "#     (df_ow_stations_1701_1801['datetime'] >= start_date)\n",
    "# ]"
   ]
  },
  {
   "cell_type": "code",
   "execution_count": 57,
   "metadata": {},
   "outputs": [],
   "source": [
    "start_date = '2017-03-01 00:00:00'\n",
    "end_date = '2017-08-01 00:00:00'\n",
    "\n",
    "start_date_18 = '2018-03-01 00:00:00'\n",
    "\n",
    "df_grid_stations_1703_1707 = df_grid_stations_1701_1803[\n",
    "    ((df_grid_stations_1701_1803['datetime'] >= start_date) & \n",
    "    (df_grid_stations_1701_1803['datetime'] < end_date))\n",
    "]\n",
    "\n",
    "df_ow_stations_1703_1707 = df_ow_stations_1701_1801[\n",
    "    (df_ow_stations_1701_1801['datetime'] < end_date) &\n",
    "    (df_ow_stations_1701_1801['datetime'] >= start_date)\n",
    "]"
   ]
  },
  {
   "cell_type": "code",
   "execution_count": 58,
   "metadata": {},
   "outputs": [
    {
     "name": "stdout",
     "output_type": "stream",
     "text": [
      "      station_id             utc_time      weather  temperature  pressure  \\\n",
      "707  beijing_meo  2018-03-01 00:00:00  Sunny/clear          0.3    1018.6   \n",
      "708  beijing_meo  2018-03-01 00:00:00  Sunny/clear          0.3    1018.6   \n",
      "709  beijing_meo  2018-03-01 01:00:00  Sunny/clear          1.9    1018.8   \n",
      "710  beijing_meo  2018-03-01 02:00:00  Sunny/clear          3.1    1018.3   \n",
      "711  beijing_meo  2018-03-01 03:00:00  Sunny/clear          4.2    1017.8   \n",
      "\n",
      "     humidity  wind_speed  wind_direction            datetime  \n",
      "707        22         1.2              36 2018-03-01 00:00:00  \n",
      "708        22         1.2              36 2018-03-01 00:00:00  \n",
      "709        19         2.5              46 2018-03-01 01:00:00  \n",
      "710        17         2.6              36 2018-03-01 02:00:00  \n",
      "711        15         2.5              12 2018-03-01 03:00:00  \n"
     ]
    },
    {
     "data": {
      "text/html": [
       "<div>\n",
       "<style scoped>\n",
       "    .dataframe tbody tr th:only-of-type {\n",
       "        vertical-align: middle;\n",
       "    }\n",
       "\n",
       "    .dataframe tbody tr th {\n",
       "        vertical-align: top;\n",
       "    }\n",
       "\n",
       "    .dataframe thead th {\n",
       "        text-align: right;\n",
       "    }\n",
       "</style>\n",
       "<table border=\"1\" class=\"dataframe\">\n",
       "  <thead>\n",
       "    <tr style=\"text-align: right;\">\n",
       "      <th></th>\n",
       "      <th>stationName</th>\n",
       "      <th>longitude</th>\n",
       "      <th>latitude</th>\n",
       "      <th>utc_time</th>\n",
       "      <th>temperature</th>\n",
       "      <th>pressure</th>\n",
       "      <th>humidity</th>\n",
       "      <th>wind_direction</th>\n",
       "      <th>wind_speed/kph</th>\n",
       "      <th>datetime</th>\n",
       "    </tr>\n",
       "  </thead>\n",
       "  <tbody>\n",
       "    <tr>\n",
       "      <th>6624576</th>\n",
       "      <td>beijing_grid_000</td>\n",
       "      <td>115.0</td>\n",
       "      <td>39.0</td>\n",
       "      <td>2018-03-01 00:00:00</td>\n",
       "      <td>-0.25</td>\n",
       "      <td>981.84</td>\n",
       "      <td>19.90</td>\n",
       "      <td>313.91</td>\n",
       "      <td>2.34</td>\n",
       "      <td>2018-03-01</td>\n",
       "    </tr>\n",
       "    <tr>\n",
       "      <th>6624577</th>\n",
       "      <td>beijing_grid_001</td>\n",
       "      <td>115.0</td>\n",
       "      <td>39.1</td>\n",
       "      <td>2018-03-01 00:00:00</td>\n",
       "      <td>-0.51</td>\n",
       "      <td>976.67</td>\n",
       "      <td>19.96</td>\n",
       "      <td>306.14</td>\n",
       "      <td>2.70</td>\n",
       "      <td>2018-03-01</td>\n",
       "    </tr>\n",
       "    <tr>\n",
       "      <th>6624578</th>\n",
       "      <td>beijing_grid_002</td>\n",
       "      <td>115.0</td>\n",
       "      <td>39.2</td>\n",
       "      <td>2018-03-01 00:00:00</td>\n",
       "      <td>-1.30</td>\n",
       "      <td>961.15</td>\n",
       "      <td>20.13</td>\n",
       "      <td>292.27</td>\n",
       "      <td>3.95</td>\n",
       "      <td>2018-03-01</td>\n",
       "    </tr>\n",
       "    <tr>\n",
       "      <th>6624579</th>\n",
       "      <td>beijing_grid_003</td>\n",
       "      <td>115.0</td>\n",
       "      <td>39.3</td>\n",
       "      <td>2018-03-01 00:00:00</td>\n",
       "      <td>-2.10</td>\n",
       "      <td>945.63</td>\n",
       "      <td>20.30</td>\n",
       "      <td>285.30</td>\n",
       "      <td>5.33</td>\n",
       "      <td>2018-03-01</td>\n",
       "    </tr>\n",
       "    <tr>\n",
       "      <th>6624580</th>\n",
       "      <td>beijing_grid_004</td>\n",
       "      <td>115.0</td>\n",
       "      <td>39.4</td>\n",
       "      <td>2018-03-01 00:00:00</td>\n",
       "      <td>-3.48</td>\n",
       "      <td>925.62</td>\n",
       "      <td>20.64</td>\n",
       "      <td>296.62</td>\n",
       "      <td>7.79</td>\n",
       "      <td>2018-03-01</td>\n",
       "    </tr>\n",
       "  </tbody>\n",
       "</table>\n",
       "</div>"
      ],
      "text/plain": [
       "              stationName  longitude  latitude             utc_time  \\\n",
       "6624576  beijing_grid_000      115.0      39.0  2018-03-01 00:00:00   \n",
       "6624577  beijing_grid_001      115.0      39.1  2018-03-01 00:00:00   \n",
       "6624578  beijing_grid_002      115.0      39.2  2018-03-01 00:00:00   \n",
       "6624579  beijing_grid_003      115.0      39.3  2018-03-01 00:00:00   \n",
       "6624580  beijing_grid_004      115.0      39.4  2018-03-01 00:00:00   \n",
       "\n",
       "         temperature  pressure  humidity  wind_direction  wind_speed/kph  \\\n",
       "6624576        -0.25    981.84     19.90          313.91            2.34   \n",
       "6624577        -0.51    976.67     19.96          306.14            2.70   \n",
       "6624578        -1.30    961.15     20.13          292.27            3.95   \n",
       "6624579        -2.10    945.63     20.30          285.30            5.33   \n",
       "6624580        -3.48    925.62     20.64          296.62            7.79   \n",
       "\n",
       "          datetime  \n",
       "6624576 2018-03-01  \n",
       "6624577 2018-03-01  \n",
       "6624578 2018-03-01  \n",
       "6624579 2018-03-01  \n",
       "6624580 2018-03-01  "
      ]
     },
     "execution_count": 58,
     "metadata": {},
     "output_type": "execute_result"
    }
   ],
   "source": [
    "df_ow_stations_02_03 = pd.read_csv(FILE_FOLDER%'observedWeather_201802-201803.csv')\n",
    "df_ow_stations_02_03['datetime'] = pd.to_datetime(df_ow_stations_02_03['utc_time'])\n",
    "df_ow_stations_03 = df_ow_stations_02_03[\n",
    "   df_ow_stations_02_03['datetime'] >= start_date_18\n",
    "]\n",
    "pprint(df_ow_stations_03.head())\n",
    "\n",
    "df_grid_stations_03 = df_grid_stations_1701_1803[\n",
    "    df_grid_stations_1701_1803['datetime'] >= start_date_18\n",
    "]\n",
    "df_grid_stations_03.head()"
   ]
  },
  {
   "cell_type": "code",
   "execution_count": 59,
   "metadata": {},
   "outputs": [
    {
     "data": {
      "text/html": [
       "<div>\n",
       "<style scoped>\n",
       "    .dataframe tbody tr th:only-of-type {\n",
       "        vertical-align: middle;\n",
       "    }\n",
       "\n",
       "    .dataframe tbody tr th {\n",
       "        vertical-align: top;\n",
       "    }\n",
       "\n",
       "    .dataframe thead th {\n",
       "        text-align: right;\n",
       "    }\n",
       "</style>\n",
       "<table border=\"1\" class=\"dataframe\">\n",
       "  <thead>\n",
       "    <tr style=\"text-align: right;\">\n",
       "      <th></th>\n",
       "      <th>id</th>\n",
       "      <th>station_id</th>\n",
       "      <th>time</th>\n",
       "      <th>weather</th>\n",
       "      <th>temperature</th>\n",
       "      <th>pressure</th>\n",
       "      <th>humidity</th>\n",
       "      <th>wind_direction</th>\n",
       "      <th>wind_speed</th>\n",
       "      <th>datetime</th>\n",
       "    </tr>\n",
       "  </thead>\n",
       "  <tbody>\n",
       "    <tr>\n",
       "      <th>0</th>\n",
       "      <td>2027019</td>\n",
       "      <td>beijing_grid_000</td>\n",
       "      <td>2018-04-01 00:00:00</td>\n",
       "      <td>CLEAR_DAY</td>\n",
       "      <td>15.0</td>\n",
       "      <td>974.1536</td>\n",
       "      <td>21.0</td>\n",
       "      <td>346.93</td>\n",
       "      <td>4.18</td>\n",
       "      <td>2018-04-01</td>\n",
       "    </tr>\n",
       "    <tr>\n",
       "      <th>1</th>\n",
       "      <td>2027020</td>\n",
       "      <td>beijing_grid_001</td>\n",
       "      <td>2018-04-01 00:00:00</td>\n",
       "      <td>CLEAR_DAY</td>\n",
       "      <td>15.0</td>\n",
       "      <td>960.6752</td>\n",
       "      <td>20.0</td>\n",
       "      <td>329.47</td>\n",
       "      <td>4.50</td>\n",
       "      <td>2018-04-01</td>\n",
       "    </tr>\n",
       "    <tr>\n",
       "      <th>2</th>\n",
       "      <td>2027021</td>\n",
       "      <td>beijing_grid_002</td>\n",
       "      <td>2018-04-01 00:00:00</td>\n",
       "      <td>CLEAR_DAY</td>\n",
       "      <td>9.0</td>\n",
       "      <td>947.1968</td>\n",
       "      <td>19.0</td>\n",
       "      <td>315.38</td>\n",
       "      <td>5.16</td>\n",
       "      <td>2018-04-01</td>\n",
       "    </tr>\n",
       "    <tr>\n",
       "      <th>3</th>\n",
       "      <td>2027022</td>\n",
       "      <td>beijing_grid_003</td>\n",
       "      <td>2018-04-01 00:00:00</td>\n",
       "      <td>CLEAR_DAY</td>\n",
       "      <td>9.0</td>\n",
       "      <td>931.8720</td>\n",
       "      <td>19.0</td>\n",
       "      <td>307.81</td>\n",
       "      <td>5.74</td>\n",
       "      <td>2018-04-01</td>\n",
       "    </tr>\n",
       "    <tr>\n",
       "      <th>4</th>\n",
       "      <td>2027023</td>\n",
       "      <td>beijing_grid_004</td>\n",
       "      <td>2018-04-01 00:00:00</td>\n",
       "      <td>CLEAR_DAY</td>\n",
       "      <td>9.0</td>\n",
       "      <td>914.7008</td>\n",
       "      <td>20.0</td>\n",
       "      <td>304.23</td>\n",
       "      <td>6.08</td>\n",
       "      <td>2018-04-01</td>\n",
       "    </tr>\n",
       "  </tbody>\n",
       "</table>\n",
       "</div>"
      ],
      "text/plain": [
       "        id        station_id                 time    weather  temperature  \\\n",
       "0  2027019  beijing_grid_000  2018-04-01 00:00:00  CLEAR_DAY         15.0   \n",
       "1  2027020  beijing_grid_001  2018-04-01 00:00:00  CLEAR_DAY         15.0   \n",
       "2  2027021  beijing_grid_002  2018-04-01 00:00:00  CLEAR_DAY          9.0   \n",
       "3  2027022  beijing_grid_003  2018-04-01 00:00:00  CLEAR_DAY          9.0   \n",
       "4  2027023  beijing_grid_004  2018-04-01 00:00:00  CLEAR_DAY          9.0   \n",
       "\n",
       "   pressure  humidity  wind_direction  wind_speed   datetime  \n",
       "0  974.1536      21.0          346.93        4.18 2018-04-01  \n",
       "1  960.6752      20.0          329.47        4.50 2018-04-01  \n",
       "2  947.1968      19.0          315.38        5.16 2018-04-01  \n",
       "3  931.8720      19.0          307.81        5.74 2018-04-01  \n",
       "4  914.7008      20.0          304.23        6.08 2018-04-01  "
      ]
     },
     "execution_count": 59,
     "metadata": {},
     "output_type": "execute_result"
    }
   ],
   "source": [
    "df_ow_stations_04 = pd.read_csv(FILE_FOLDER%'observedWeather_201804.csv')\n",
    "# print(df_ow_stations_04)\n",
    "df_ow_stations_04['datetime'] = pd.to_datetime(df_ow_stations_04['time'])\n",
    "# df_ow_stations_04\n",
    "df_grid_stations_04 = pd.read_csv(FILE_FOLDER%'gridWeather_201804.csv')\n",
    "df_grid_stations_04['datetime'] = pd.to_datetime(df_grid_stations_04['time'])\n",
    "df_grid_stations_04.head()"
   ]
  },
  {
   "cell_type": "code",
   "execution_count": 60,
   "metadata": {},
   "outputs": [
    {
     "name": "stdout",
     "output_type": "stream",
     "text": [
      "Index(['station_id', 'time', 'weather', 'temperature', 'pressure', 'humidity',\n",
      "       'wind_speed', 'wind_direction', 'datetime'],\n",
      "      dtype='object')\n",
      "Index(['station_id', 'longitude', 'latitude', 'time', 'temperature',\n",
      "       'pressure', 'humidity', 'wind_direction', 'wind_speed', 'datetime'],\n",
      "      dtype='object')\n",
      "Index(['station_id', 'time', 'weather', 'temperature', 'pressure', 'humidity',\n",
      "       'wind_speed', 'wind_direction', 'datetime'],\n",
      "      dtype='object')\n",
      "Index(['station_id', 'time', 'weather', 'temperature', 'pressure', 'humidity',\n",
      "       'wind_direction', 'wind_speed', 'datetime'],\n",
      "      dtype='object')\n"
     ]
    }
   ],
   "source": [
    "# df_ow_stations_1703_1707\n",
    "# df_grid_stations_1703_1707\n",
    "# df_ow_stations_03\n",
    "# df_grid_stations_03\n",
    "# df_ow_stations_04\n",
    "# df_grid_stations_04\n",
    "\n",
    "# df_ow_stations_1703_1707.columns = ['station_id', 'longitude', 'latitude', 'time', 'temperature',\n",
    "#        'pressure', 'humidity', 'wind_direction', 'wind_speed', 'weather',\n",
    "#        'datetime']\n",
    "# print(df_ow_stations_1703_1707.columns)\n",
    "\n",
    "# df_grid_stations_1703_1707.columns = ['station_id', 'longitude', 'latitude', 'time', 'temperature',\n",
    "#        'pressure', 'humidity', 'wind_direction', 'wind_speed', 'datetime']\n",
    "# print(df_grid_stations_1703_1707.columns)\n",
    "\n",
    "df_ow_stations_03.columns = ['station_id', 'time', 'weather', 'temperature', 'pressure',\n",
    "       'humidity', 'wind_speed', 'wind_direction', 'datetime']\n",
    "print(df_ow_stations_03.columns)\n",
    "\n",
    "df_grid_stations_03.columns = ['station_id', 'longitude', 'latitude', 'time', 'temperature',\n",
    "       'pressure', 'humidity', 'wind_direction', 'wind_speed', 'datetime']\n",
    "print(df_grid_stations_03.columns)\n",
    "\n",
    "df_ow_stations_04.columns = ['id', 'station_id', 'time', 'weather', 'temperature', 'pressure',\n",
    "       'humidity', 'wind_speed', 'wind_direction', 'datetime']\n",
    "df_ow_stations_04.drop('id',axis=1,inplace=True)\n",
    "print(df_ow_stations_04.columns)\n",
    "\n",
    "df_grid_stations_04.columns = ['id', 'station_id', 'time', 'weather', 'temperature', 'pressure',\n",
    "       'humidity', 'wind_direction', 'wind_speed', 'datetime']\n",
    "df_grid_stations_04.drop('id',axis=1,inplace=True)\n",
    "print(df_grid_stations_04.columns)"
   ]
  },
  {
   "cell_type": "code",
   "execution_count": 61,
   "metadata": {},
   "outputs": [
    {
     "name": "stdout",
     "output_type": "stream",
     "text": [
      "Index(['station_id', 'temperature', 'pressure', 'humidity', 'wind_speed',\n",
      "       'time', 'datetime'],\n",
      "      dtype='object')\n",
      "Index(['station_id', 'temperature', 'pressure', 'humidity', 'wind_speed',\n",
      "       'time', 'datetime'],\n",
      "      dtype='object')\n",
      "Index(['station_id', 'temperature', 'pressure', 'humidity', 'wind_speed',\n",
      "       'time', 'datetime'],\n",
      "      dtype='object')\n",
      "Index(['station_id', 'temperature', 'pressure', 'humidity', 'wind_speed',\n",
      "       'time', 'datetime'],\n",
      "      dtype='object')\n"
     ]
    }
   ],
   "source": [
    "selected_features = ['station_id', 'temperature', 'pressure','humidity', 'wind_speed', 'time', 'datetime']\n",
    "\n",
    "# df_ow_stations_1703_1707 = df_ow_stations_1703_1707[selected_features]\n",
    "# print(df_ow_stations_1703_1707.columns)\n",
    "\n",
    "# df_grid_stations_1703_1707 = df_grid_stations_1703_1707[selected_features]\n",
    "# print(df_grid_stations_1703_1707.columns)\n",
    "\n",
    "df_ow_stations_03 = df_ow_stations_03[selected_features]\n",
    "print(df_ow_stations_03.columns)\n",
    "\n",
    "df_grid_stations_03 = df_grid_stations_03[selected_features]\n",
    "print(df_grid_stations_03.columns)\n",
    "\n",
    "df_ow_stations_04 = df_ow_stations_04[selected_features]\n",
    "print(df_ow_stations_04.columns)\n",
    "\n",
    "df_grid_stations_04 = df_grid_stations_04[selected_features]\n",
    "print(df_grid_stations_04.columns)"
   ]
  },
  {
   "cell_type": "code",
   "execution_count": 24,
   "metadata": {},
   "outputs": [
    {
     "data": {
      "text/plain": [
       "{'dongsi_aq': [(0.13908898021869456, 'hadian_meo'),\n",
       "  (0.13685759021698704, 'beijing_grid_283'),\n",
       "  (0.1336117299371322, 'beijing_meo'),\n",
       "  (0.1301153334545976, 'beijing_grid_302'),\n",
       "  (0.12054044964243844, 'beijing_grid_282'),\n",
       "  (0.10922453936730264, 'beijing_grid_325'),\n",
       "  (0.0879204185613327, 'beijing_grid_324'),\n",
       "  (0.08706475859316841, 'chaoyang_meo'),\n",
       "  (0.07300684899377298, 'beijing_grid_304'),\n",
       "  (0.03361547262794414, 'beijing_grid_303')],\n",
       " 'tiantan_aq': [(0.14712239802286733, 'beijing_grid_325'),\n",
       "  (0.13727709204380256, 'beijing_grid_281'),\n",
       "  (0.12666885963013072, 'beijing_grid_323'),\n",
       "  (0.11500842659946843, 'chaoyang_meo'),\n",
       "  (0.11421471008587752, 'beijing_grid_304'),\n",
       "  (0.10791200118616547, 'beijing_grid_282'),\n",
       "  (0.10139791830600552, 'beijing_meo'),\n",
       "  (0.09404786015640172, 'beijing_grid_324'),\n",
       "  (0.08628441342444078, 'beijing_grid_302'),\n",
       "  (0.015652475842503358, 'beijing_grid_303')],\n",
       " 'guanyuan_aq': [(0.14269547995645174, 'beijing_grid_302'),\n",
       "  (0.1419929575718424, 'beijing_grid_261'),\n",
       "  (0.13476646467130232, 'beijing_grid_281'),\n",
       "  (0.1344019225042641, 'shijingshan_meo'),\n",
       "  (0.1105990501521996, 'fengtai_meo'),\n",
       "  (0.09360555539069554, 'beijing_grid_304'),\n",
       "  (0.08100617260431346, 'beijing_grid_283'),\n",
       "  (0.07552759772609208, 'hadian_meo'),\n",
       "  (0.06754257916308098, 'beijing_grid_303'),\n",
       "  (0.048600411520894726, 'beijing_grid_282')],\n",
       " 'wanshouxigong_aq': [(0.14962620091414067, 'beijing_grid_324'),\n",
       "  (0.13769967173814962, 'beijing_meo'),\n",
       "  (0.13261975720080577, 'beijing_grid_283'),\n",
       "  (0.13110301293257964, 'beijing_grid_304'),\n",
       "  (0.12507719735537595, 'hadian_meo'),\n",
       "  (0.10700121800507649, 'fengtai_meo'),\n",
       "  (0.09374433316206991, 'beijing_grid_281'),\n",
       "  (0.09158602513484596, 'beijing_grid_302'),\n",
       "  (0.056462376853977994, 'beijing_grid_282'),\n",
       "  (0.052801515129777356, 'beijing_grid_303')],\n",
       " 'aotizhongxin_aq': [(0.15275143207185368, 'beijing_grid_284'),\n",
       "  (0.13165485179057768, 'beijing_grid_324'),\n",
       "  (0.1270157470552441, 'beijing_grid_282'),\n",
       "  (0.11803812943282563, 'beijing_grid_305'),\n",
       "  (0.10794259673032278, 'chaoyang_meo'),\n",
       "  (0.1065591750074898, 'hadian_meo'),\n",
       "  (0.10456098698845032, 'beijing_grid_325'),\n",
       "  (0.09865596788842353, 'beijing_grid_283'),\n",
       "  (0.08205485969764449, 'beijing_grid_303'),\n",
       "  (0.018248287590895352, 'beijing_grid_304')],\n",
       " 'nongzhanguan_aq': [(0.15261061562027436, 'beijing_grid_346'),\n",
       "  (0.1499666629621372, 'beijing_grid_302'),\n",
       "  (0.14384018909887028, 'beijing_grid_345'),\n",
       "  (0.14244297104455608, 'beijing_grid_323'),\n",
       "  (0.1311610057021174, 'beijing_meo'),\n",
       "  (0.08769264507357175, 'beijing_grid_304'),\n",
       "  (0.07409453421137362, 'beijing_grid_325'),\n",
       "  (0.07134423592694125, 'beijing_grid_303'),\n",
       "  (0.053758720222862856, 'beijing_grid_324'),\n",
       "  (0.04274273960439126, 'chaoyang_meo')],\n",
       " 'wanliu_aq': [(0.14261135999631738, 'beijing_grid_303'),\n",
       "  (0.12395490556878933, 'fengtai_meo'),\n",
       "  (0.12303657992645892, 'beijing_grid_261'),\n",
       "  (0.11374532957445448, 'beijing_grid_284'),\n",
       "  (0.11374532957444905, 'beijing_grid_304'),\n",
       "  (0.09305250116381546, 'shijingshan_meo'),\n",
       "  (0.08796590248500102, 'beijing_grid_262'),\n",
       "  (0.0879659024849919, 'beijing_grid_282'),\n",
       "  (0.018384776310847582, 'beijing_grid_283'),\n",
       "  (0.003556034065287876, 'hadian_meo')],\n",
       " 'beibuxinqu_aq': [(0.15484185480677315, 'beijing_grid_283'),\n",
       "  (0.1507798089030495, 'shijingshan_meo'),\n",
       "  (0.1385516408339503, 'pingchang_meo'),\n",
       "  (0.13257450735341086, 'beijing_grid_243'),\n",
       "  (0.12639620247460429, 'beijing_grid_284'),\n",
       "  (0.11651609330903748, 'beijing_grid_241'),\n",
       "  (0.11303096920756019, 'beijing_grid_264'),\n",
       "  (0.09368030742904913, 'beijing_grid_262'),\n",
       "  (0.0746726188103757, 'beijing_grid_242'),\n",
       "  (0.027856776554377287, 'beijing_grid_263')],\n",
       " 'zhiwuyuan_aq': [(0.13717118215779056, 'fengtai_meo'),\n",
       "  (0.13510366390294234, 'beijing_grid_284'),\n",
       "  (0.12493277786449174, 'mentougou_meo'),\n",
       "  (0.10701868995648786, 'beijing_grid_241'),\n",
       "  (0.1022399139279734, 'beijing_grid_261'),\n",
       "  (0.09824968193333382, 'beijing_grid_263'),\n",
       "  (0.09302150289044998, 'beijing_grid_283'),\n",
       "  (0.08490116711960147, 'hadian_meo'),\n",
       "  (0.059524918923415604, 'shijingshan_meo'),\n",
       "  (0.007280109889284047, 'beijing_grid_262')],\n",
       " 'fengtaihuayuan_aq': [(0.1265306287031017, 'beijing_grid_303'),\n",
       "  (0.12508964875215903, 'mentougou_meo'),\n",
       "  (0.12448195089358971, 'hadian_meo'),\n",
       "  (0.12363935892668036, 'fangshan_meo'),\n",
       "  (0.10842145900531572, 'shijingshan_meo'),\n",
       "  (0.10104454463254944, 'beijing_grid_260'),\n",
       "  (0.08723531395025128, 'beijing_grid_261'),\n",
       "  (0.06640783086353848, 'beijing_grid_281'),\n",
       "  (0.04254409477236484, 'beijing_grid_282'),\n",
       "  (0.0344985920664658, 'fengtai_meo')],\n",
       " 'yungang_aq': [(0.13524792050157014, 'beijing_grid_259'),\n",
       "  (0.1324994625379282, 'shijingshan_meo'),\n",
       "  (0.13225732493892128, 'beijing_grid_238'),\n",
       "  (0.10953407914693924, 'fengtai_meo'),\n",
       "  (0.09323089616645491, 'beijing_grid_261'),\n",
       "  (0.08883692925805503, 'beijing_grid_240'),\n",
       "  (0.0701096780466439, 'fangshan_meo'),\n",
       "  (0.0646183755981114, 'mentougou_meo'),\n",
       "  (0.05909314681077887, 'beijing_grid_260'),\n",
       "  (0.051884487084297555, 'beijing_grid_239')],\n",
       " 'gucheng_aq': [(0.12913166621039235, 'hadian_meo'),\n",
       "  (0.12021647141719091, 'beijing_grid_241'),\n",
       "  (0.11684177335182826, 'beijing_grid_282'),\n",
       "  (0.11511733144927029, 'beijing_grid_260'),\n",
       "  (0.08747571091451567, 'beijing_grid_262'),\n",
       "  (0.0851586754241787, 'beijing_grid_240'),\n",
       "  (0.07527683106087983, 'fengtai_meo'),\n",
       "  (0.038078572254465315, 'mentougou_meo'),\n",
       "  (0.03556676500385943, 'shijingshan_meo'),\n",
       "  (0.021260291625475228, 'beijing_grid_261')],\n",
       " 'fangshan_aq': [(0.15575621977949367, 'beijing_grid_258'),\n",
       "  (0.1478512766262188, 'beijing_grid_218'),\n",
       "  (0.14719669964010312, 'mentougou_meo'),\n",
       "  (0.14649232061783976, 'beijing_grid_237'),\n",
       "  (0.1423376267892725, 'beijing_grid_217'),\n",
       "  (0.0863712915267514, 'beijing_grid_260'),\n",
       "  (0.07655063683600963, 'beijing_grid_259'),\n",
       "  (0.06826419266351212, 'beijing_grid_239'),\n",
       "  (0.06593794655434818, 'fangshan_meo'),\n",
       "  (0.05531726674376327, 'beijing_grid_238')],\n",
       " 'daxing_aq': [(0.1521183749584553, 'beijing_grid_321'),\n",
       "  (0.13243866504914187, 'beijing_grid_281'),\n",
       "  (0.12625371281669168, 'beijing_grid_323'),\n",
       "  (0.11806777714516532, 'beijing_grid_300'),\n",
       "  (0.10975671823079652, 'beijing_meo'),\n",
       "  (0.10554619841566942, 'beijing_grid_280'),\n",
       "  (0.09767292357660194, 'beijing_grid_322'),\n",
       "  (0.08209750300708836, 'beijing_grid_302'),\n",
       "  (0.049559367901434885, 'daxing_meo'),\n",
       "  (0.018439088914584418, 'beijing_grid_301')],\n",
       " 'yizhuang_aq': [(0.1492012064294327, 'beijing_grid_303'),\n",
       "  (0.1423411395205147, 'beijing_grid_301'),\n",
       "  (0.14092906016857643, 'beijing_grid_345'),\n",
       "  (0.13364505228402085, 'beijing_grid_343'),\n",
       "  (0.10611785900591283, 'beijing_grid_302'),\n",
       "  (0.10517128885774552, 'beijing_grid_324'),\n",
       "  (0.09518928511129698, 'beijing_grid_322'),\n",
       "  (0.09413288479590351, 'beijing_grid_344'),\n",
       "  (0.03820691896490847, 'beijing_meo'),\n",
       "  (0.007810249675903918, 'beijing_grid_323')],\n",
       " 'tongzhou_aq': [(0.16360012224934004, 'beijing_grid_324'),\n",
       "  (0.16175598906995645, 'beijing_grid_386'),\n",
       "  (0.13771347065556153, 'beijing_grid_387'),\n",
       "  (0.1302497600765594, 'beijing_grid_346'),\n",
       "  (0.11985407794481354, 'beijing_grid_367'),\n",
       "  (0.10660675400742696, 'beijing_grid_344'),\n",
       "  (0.10127043343885021, 'tongzhou_meo'),\n",
       "  (0.09362157870918542, 'beijing_grid_365'),\n",
       "  (0.06453681120105317, 'beijing_grid_345'),\n",
       "  (0.03956008088971173, 'beijing_grid_366')],\n",
       " 'shunyi_aq': [(0.16233915116200387, 'beijing_grid_390'),\n",
       "  (0.1573340395464377, 'beijing_grid_326'),\n",
       "  (0.1474923726841443, 'beijing_grid_389'),\n",
       "  (0.138397976863824, 'beijing_grid_346'),\n",
       "  (0.13473678042761364, 'beijing_grid_367'),\n",
       "  (0.0914002188181289, 'beijing_grid_348'),\n",
       "  (0.08575546629808067, 'beijing_grid_369'),\n",
       "  (0.061269894728165006, 'beijing_grid_347'),\n",
       "  (0.05247856705360604, 'beijing_grid_368'),\n",
       "  (0.039723598549602994, 'shunyi_meo')],\n",
       " 'pingchang_aq': [(0.17084788555905644, 'beijing_grid_306'),\n",
       "  (0.15423683088031293, 'beijing_grid_244'),\n",
       "  (0.13634148304899144, 'beijing_grid_284'),\n",
       "  (0.131106826672002, 'beijing_grid_243'),\n",
       "  (0.12078493283518206, 'beijing_grid_263'),\n",
       "  (0.10857716150277083, 'beijing_grid_286'),\n",
       "  (0.08825531145489093, 'beijing_grid_265'),\n",
       "  (0.07203471385380042, 'beijing_grid_285'),\n",
       "  (0.03448187929913231, 'beijing_grid_264'),\n",
       "  (0.0193964161065584, 'pingchang_meo')],\n",
       " 'mentougou_aq': [(0.15443497082773847, 'fengtai_meo'),\n",
       "  (0.13713132391981162, 'beijing_grid_239'),\n",
       "  (0.12330855606973165, 'beijing_grid_220'),\n",
       "  (0.11315917991925882, 'beijing_grid_262'),\n",
       "  (0.11227199116432283, 'beijing_grid_219'),\n",
       "  (0.10101980003939236, 'beijing_grid_261'),\n",
       "  (0.09943003355544246, 'shijingshan_meo'),\n",
       "  (0.07044052941976547, 'mentougou_meo'),\n",
       "  (0.0632850693291907, 'beijing_grid_241'),\n",
       "  (0.03748332962798398, 'beijing_grid_240')],\n",
       " 'pinggu_aq': [(0.17449641830134813, 'beijing_grid_430'),\n",
       "  (0.15699999999999648, 'beijing_grid_454'),\n",
       "  (0.14300000000000068, 'beijing_grid_451'),\n",
       "  (0.11510430052783412, 'beijing_grid_474'),\n",
       "  (0.11510430052782177, 'beijing_grid_432'),\n",
       "  (0.10885311203636597, 'beijing_grid_473'),\n",
       "  (0.10885311203635291, 'beijing_grid_431'),\n",
       "  (0.05700000000000216, 'beijing_grid_453'),\n",
       "  (0.04299999999999926, 'beijing_grid_452'),\n",
       "  (0.03186469174107448, 'pinggu_meo')],\n",
       " 'huairou_aq': [(0.17426416728633146, 'beijing_grid_351'),\n",
       "  (0.14686047800549495, 'beijing_grid_369'),\n",
       "  (0.1468604780054721, 'beijing_grid_329'),\n",
       "  (0.1310267148332719, 'beijing_grid_348'),\n",
       "  (0.13102671483326106, 'beijing_grid_328'),\n",
       "  (0.10182337649087173, 'beijing_grid_371'),\n",
       "  (0.07725283166332975, 'beijing_grid_370'),\n",
       "  (0.07725283166330474, 'beijing_grid_350'),\n",
       "  (0.039597979746444814, 'beijing_grid_349'),\n",
       "  (0.029796484240395243, 'huairou_meo')],\n",
       " 'miyun_aq': [(0.17065755183992717, 'beijing_grid_434'),\n",
       "  (0.14941218156496264, 'beijing_grid_370'),\n",
       "  (0.14671059948074772, 'beijing_grid_414'),\n",
       "  (0.13536617007214685, 'beijing_grid_371'),\n",
       "  (0.13388054376944153, 'beijing_grid_393'),\n",
       "  (0.09759098319004551, 'beijing_grid_412'),\n",
       "  (0.07696752561958013, 'beijing_grid_391'),\n",
       "  (0.07432361670424667, 'beijing_grid_413'),\n",
       "  (0.04386342439893119, 'beijing_grid_392'),\n",
       "  (0.03302948060279348, 'miyun_meo')],\n",
       " 'yanqin_aq': [(0.1636856743884447, 'beijing_grid_205'),\n",
       "  (0.15554099138169752, 'beijing_grid_223'),\n",
       "  (0.14964290828502055, 'beijing_grid_226'),\n",
       "  (0.13853880322854265, 'beijing_grid_245'),\n",
       "  (0.1363561513097085, 'beijing_grid_246'),\n",
       "  (0.08940357934669538, 'beijing_grid_203'),\n",
       "  (0.08598255637046455, 'beijing_grid_204'),\n",
       "  (0.059941638282582775, 'beijing_grid_224'),\n",
       "  (0.05470831746635287, 'beijing_grid_225'),\n",
       "  (0.004724505278195121, 'yanqing_meo')],\n",
       " 'dingling_aq': [(0.16144348856488588, 'beijing_grid_245'),\n",
       "  (0.15120846537148924, 'beijing_grid_243'),\n",
       "  (0.1344023809312881, 'beijing_grid_287'),\n",
       "  (0.1219180052330233, 'beijing_grid_285'),\n",
       "  (0.1202663710269875, 'beijing_grid_244'),\n",
       "  (0.10983624174196416, 'beijing_grid_266'),\n",
       "  (0.0941488183675165, 'beijing_grid_264'),\n",
       "  (0.08039900496896499, 'beijing_grid_286'),\n",
       "  (0.06917048111570846, 'pingchang_meo'),\n",
       "  (0.021540659228532676, 'beijing_grid_265')],\n",
       " 'badaling_aq': [(0.16543578814754603, 'beijing_grid_222'),\n",
       "  (0.16114899937634855, 'beijing_grid_204'),\n",
       "  (0.13553228397691627, 'beijing_grid_225'),\n",
       "  (0.12949517365523497, 'beijing_grid_244'),\n",
       "  (0.11734138229967546, 'beijing_grid_245'),\n",
       "  (0.10940292500659911, 'beijing_grid_202'),\n",
       "  (0.09470480452436762, 'beijing_grid_203'),\n",
       "  (0.08658000687296982, 'yanqing_meo'),\n",
       "  (0.0660984114786478, 'beijing_grid_223'),\n",
       "  (0.03699999999999692, 'beijing_grid_224')],\n",
       " 'miyunshuiku_aq': [(0.15007331541616833, 'beijing_grid_394'),\n",
       "  (0.1487346630748921, 'beijing_grid_392'),\n",
       "  (0.13461797799699554, 'beijing_grid_436'),\n",
       "  (0.13312400234368144, 'beijing_grid_434'),\n",
       "  (0.1302137012333574, 'miyun_meo'),\n",
       "  (0.11100450441311348, 'beijing_grid_393'),\n",
       "  (0.10159724405710875, 'beijing_grid_415'),\n",
       "  (0.09960923651951484, 'beijing_grid_413'),\n",
       "  (0.08900561780022513, 'beijing_grid_435'),\n",
       "  (0.011045361017182747, 'beijing_grid_414')],\n",
       " 'donggaocun_aq': [(0.1562049935181375, 'beijing_grid_430'),\n",
       "  (0.1562049935181375, 'beijing_grid_432'),\n",
       "  (0.12806248474865703, 'beijing_grid_472'),\n",
       "  (0.12806248474865703, 'beijing_grid_474'),\n",
       "  (0.12000000000000455, 'beijing_grid_431'),\n",
       "  (0.1019803902718591, 'beijing_grid_451'),\n",
       "  (0.1019803902718591, 'beijing_grid_453'),\n",
       "  (0.0799999999999983, 'beijing_grid_473'),\n",
       "  (0.06947998574951894, 'pinggu_meo'),\n",
       "  (0.020000000000010232, 'beijing_grid_452')],\n",
       " 'yongledian_aq': [(0.16196604582443566, 'beijing_grid_405'),\n",
       "  (0.1464001366119736, 'beijing_grid_407'),\n",
       "  (0.13940229553345312, 'beijing_grid_363'),\n",
       "  (0.13803511397064464, 'tongzhou_meo'),\n",
       "  (0.12096693763172459, 'beijing_grid_365'),\n",
       "  (0.11761377470349382, 'beijing_grid_406'),\n",
       "  (0.11328283188550317, 'beijing_grid_384'),\n",
       "  (0.0896270048590296, 'beijing_grid_386'),\n",
       "  (0.08386298349091342, 'beijing_grid_364'),\n",
       "  (0.020808652046689243, 'beijing_grid_385')],\n",
       " 'yufa_aq': [(0.17999999999999972, 'beijing_grid_280'),\n",
       "  (0.15620499351814204, 'beijing_grid_298'),\n",
       "  (0.15620499351813294, 'beijing_grid_256'),\n",
       "  (0.12806248474866258, 'beijing_grid_300'),\n",
       "  (0.12806248474865148, 'beijing_grid_258'),\n",
       "  (0.12000000000000455, 'beijing_grid_277'),\n",
       "  (0.10198039027186467, 'beijing_grid_299'),\n",
       "  (0.10198039027185074, 'beijing_grid_257'),\n",
       "  (0.0799999999999983, 'beijing_grid_279'),\n",
       "  (0.020000000000003126, 'beijing_grid_278')],\n",
       " 'liulihe_aq': [(0.17999999999999972, 'beijing_grid_214'),\n",
       "  (0.15620499351813294, 'beijing_grid_196'),\n",
       "  (0.15620499351813294, 'beijing_grid_238'),\n",
       "  (0.12806248474865148, 'beijing_grid_194'),\n",
       "  (0.12806248474865148, 'beijing_grid_236'),\n",
       "  (0.12000000000000455, 'beijing_grid_217'),\n",
       "  (0.10198039027185074, 'beijing_grid_195'),\n",
       "  (0.10198039027185074, 'beijing_grid_237'),\n",
       "  (0.0799999999999983, 'beijing_grid_215'),\n",
       "  (0.020000000000003126, 'beijing_grid_216')],\n",
       " 'qianmen_aq': [(0.13865785228395686, 'beijing_grid_283'),\n",
       "  (0.13720787149431524, 'beijing_grid_281'),\n",
       "  (0.13653884875109704, 'hadian_meo'),\n",
       "  (0.11903913044370922, 'beijing_meo'),\n",
       "  (0.11858725643544948, 'chaoyang_meo'),\n",
       "  (0.10500476179679107, 'beijing_grid_324'),\n",
       "  (0.10112368664165637, 'beijing_grid_304'),\n",
       "  (0.09912618221237435, 'beijing_grid_302'),\n",
       "  (0.09500526301210781, 'beijing_grid_282'),\n",
       "  (0.005099019513601803, 'beijing_grid_303')],\n",
       " 'yongdingmennei_aq': [(0.1488322430609938, 'fengtai_meo'),\n",
       "  (0.13139864530842213, 'chaoyang_meo'),\n",
       "  (0.13043005788545037, 'beijing_grid_323'),\n",
       "  (0.12414507642271098, 'beijing_grid_304'),\n",
       "  (0.12088010589008832, 'beijing_grid_281'),\n",
       "  (0.10868302535355694, 'beijing_grid_324'),\n",
       "  (0.10284120981782953, 'beijing_meo'),\n",
       "  (0.09701546268507372, 'beijing_grid_282'),\n",
       "  (0.07623647421018531, 'beijing_grid_302'),\n",
       "  (0.024738633753710347, 'beijing_grid_303')],\n",
       " 'xizhimenbei_aq': [(0.15465122049308852, 'beijing_grid_305'),\n",
       "  (0.15400324671902046, 'beijing_grid_284'),\n",
       "  (0.15184070926101403, 'chaoyang_meo'),\n",
       "  (0.1441815548981204, 'shijingshan_meo'),\n",
       "  (0.13329555466918871, 'fengtai_meo'),\n",
       "  (0.07427651041885225, 'beijing_grid_303'),\n",
       "  (0.07291776189653297, 'beijing_grid_282'),\n",
       "  (0.06868041933478268, 'beijing_grid_304'),\n",
       "  (0.06720863039818023, 'beijing_grid_283'),\n",
       "  (0.06709011863362281, 'hadian_meo')],\n",
       " 'nansanhuan_aq': [(0.14751271131668692, 'beijing_grid_304'),\n",
       "  (0.14338758663148574, 'beijing_grid_323'),\n",
       "  (0.13914021704741247, 'beijing_grid_324'),\n",
       "  (0.1380560081517372, 'daxing_meo'),\n",
       "  (0.12354996306987714, 'fengtai_meo'),\n",
       "  (0.11304807666119718, 'beijing_meo'),\n",
       "  (0.08809086218218215, 'beijing_grid_281'),\n",
       "  (0.08099382692526287, 'beijing_grid_282'),\n",
       "  (0.0644980619863976, 'beijing_grid_302'),\n",
       "  (0.05440588203494558, 'beijing_grid_303')],\n",
       " 'dongsihuan_aq': [(0.16189502771857506, 'beijing_grid_302'),\n",
       "  (0.14003570973148652, 'beijing_grid_323'),\n",
       "  (0.13357848395902147, 'beijing_meo'),\n",
       "  (0.13194695904036982, 'beijing_grid_346'),\n",
       "  (0.12332882874657147, 'beijing_grid_345'),\n",
       "  (0.10300485425453196, 'beijing_grid_304'),\n",
       "  (0.09170605214486933, 'beijing_grid_303'),\n",
       "  (0.06332456079595292, 'beijing_grid_325'),\n",
       "  (0.04254409477237069, 'beijing_grid_324'),\n",
       "  (0.02236686363551543, 'chaoyang_meo')]}"
      ]
     },
     "execution_count": 24,
     "metadata": {},
     "output_type": "execute_result"
    }
   ],
   "source": [
    "aq_nearest_dict, df_aq_stations = get_nearest_stations()\n",
    "aq_nearest_dict"
   ]
  },
  {
   "cell_type": "code",
   "execution_count": 25,
   "metadata": {},
   "outputs": [
    {
     "data": {
      "text/html": [
       "<div>\n",
       "<style scoped>\n",
       "    .dataframe tbody tr th:only-of-type {\n",
       "        vertical-align: middle;\n",
       "    }\n",
       "\n",
       "    .dataframe tbody tr th {\n",
       "        vertical-align: top;\n",
       "    }\n",
       "\n",
       "    .dataframe thead th {\n",
       "        text-align: right;\n",
       "    }\n",
       "</style>\n",
       "<table border=\"1\" class=\"dataframe\">\n",
       "  <thead>\n",
       "    <tr style=\"text-align: right;\">\n",
       "      <th></th>\n",
       "      <th>station_id</th>\n",
       "      <th>time</th>\n",
       "      <th>PM25</th>\n",
       "      <th>PM10</th>\n",
       "      <th>O3</th>\n",
       "    </tr>\n",
       "  </thead>\n",
       "  <tbody>\n",
       "    <tr>\n",
       "      <th>0</th>\n",
       "      <td>dongsi_aq</td>\n",
       "      <td>2018-04-01 02:00:00</td>\n",
       "      <td>259.0</td>\n",
       "      <td>NaN</td>\n",
       "      <td>56.0</td>\n",
       "    </tr>\n",
       "    <tr>\n",
       "      <th>1</th>\n",
       "      <td>tiantan_aq</td>\n",
       "      <td>2018-04-01 02:00:00</td>\n",
       "      <td>250.0</td>\n",
       "      <td>NaN</td>\n",
       "      <td>64.0</td>\n",
       "    </tr>\n",
       "    <tr>\n",
       "      <th>2</th>\n",
       "      <td>guanyuan_aq</td>\n",
       "      <td>2018-04-01 02:00:00</td>\n",
       "      <td>240.0</td>\n",
       "      <td>246.0</td>\n",
       "      <td>49.0</td>\n",
       "    </tr>\n",
       "    <tr>\n",
       "      <th>3</th>\n",
       "      <td>wanshouxigong_aq</td>\n",
       "      <td>2018-04-01 02:00:00</td>\n",
       "      <td>255.0</td>\n",
       "      <td>260.0</td>\n",
       "      <td>65.0</td>\n",
       "    </tr>\n",
       "    <tr>\n",
       "      <th>4</th>\n",
       "      <td>aotizhongxin_aq</td>\n",
       "      <td>2018-04-01 02:00:00</td>\n",
       "      <td>266.0</td>\n",
       "      <td>NaN</td>\n",
       "      <td>45.0</td>\n",
       "    </tr>\n",
       "  </tbody>\n",
       "</table>\n",
       "</div>"
      ],
      "text/plain": [
       "         station_id                 time   PM25   PM10    O3\n",
       "0         dongsi_aq  2018-04-01 02:00:00  259.0    NaN  56.0\n",
       "1        tiantan_aq  2018-04-01 02:00:00  250.0    NaN  64.0\n",
       "2       guanyuan_aq  2018-04-01 02:00:00  240.0  246.0  49.0\n",
       "3  wanshouxigong_aq  2018-04-01 02:00:00  255.0  260.0  65.0\n",
       "4   aotizhongxin_aq  2018-04-01 02:00:00  266.0    NaN  45.0"
      ]
     },
     "execution_count": 25,
     "metadata": {},
     "output_type": "execute_result"
    }
   ],
   "source": [
    "selectef_labels = ['station_id','time','PM25_Concentration','PM10_Concentration','O3_Concentration']\n",
    "re_named_labels = ['station_id','time','PM25','PM10','O3']\n",
    "\n",
    "# df_ow_stations_1703_1707\n",
    "# df_grid_stations_1703_1707\n",
    "\n",
    "# df_ow_stations_03\n",
    "# df_grid_stations_03\n",
    "\n",
    "# df_ow_stations_04\n",
    "# df_grid_stations_04\n",
    "aq_04 = pd.read_csv(FILE_FOLDER % 'aiqQuality_201804.csv')\n",
    "aq_04 = aq_04[selectef_labels]\n",
    "aq_04.columns = re_named_labels\n",
    "\n",
    "aq_04.head()"
   ]
  },
  {
   "cell_type": "code",
   "execution_count": 12,
   "metadata": {},
   "outputs": [
    {
     "name": "stdout",
     "output_type": "stream",
     "text": [
      "Index(['stationId', 'utc_time', 'PM2.5', 'PM10', 'NO2', 'CO', 'O3', 'SO2'], dtype='object')\n"
     ]
    },
    {
     "data": {
      "text/html": [
       "<div>\n",
       "<style scoped>\n",
       "    .dataframe tbody tr th:only-of-type {\n",
       "        vertical-align: middle;\n",
       "    }\n",
       "\n",
       "    .dataframe tbody tr th {\n",
       "        vertical-align: top;\n",
       "    }\n",
       "\n",
       "    .dataframe thead th {\n",
       "        text-align: right;\n",
       "    }\n",
       "</style>\n",
       "<table border=\"1\" class=\"dataframe\">\n",
       "  <thead>\n",
       "    <tr style=\"text-align: right;\">\n",
       "      <th></th>\n",
       "      <th>station_id</th>\n",
       "      <th>time</th>\n",
       "      <th>PM25</th>\n",
       "      <th>PM10</th>\n",
       "      <th>O3</th>\n",
       "    </tr>\n",
       "  </thead>\n",
       "  <tbody>\n",
       "    <tr>\n",
       "      <th>23388</th>\n",
       "      <td>aotizhongxin_aq</td>\n",
       "      <td>2018-03-01 00:00:00</td>\n",
       "      <td>9.0</td>\n",
       "      <td>47.0</td>\n",
       "      <td>58.0</td>\n",
       "    </tr>\n",
       "    <tr>\n",
       "      <th>23389</th>\n",
       "      <td>aotizhongxin_aq</td>\n",
       "      <td>2018-03-01 01:00:00</td>\n",
       "      <td>14.0</td>\n",
       "      <td>47.0</td>\n",
       "      <td>61.0</td>\n",
       "    </tr>\n",
       "    <tr>\n",
       "      <th>23390</th>\n",
       "      <td>aotizhongxin_aq</td>\n",
       "      <td>2018-03-01 02:00:00</td>\n",
       "      <td>11.0</td>\n",
       "      <td>38.0</td>\n",
       "      <td>61.0</td>\n",
       "    </tr>\n",
       "    <tr>\n",
       "      <th>23391</th>\n",
       "      <td>aotizhongxin_aq</td>\n",
       "      <td>2018-03-01 03:00:00</td>\n",
       "      <td>4.0</td>\n",
       "      <td>33.0</td>\n",
       "      <td>NaN</td>\n",
       "    </tr>\n",
       "    <tr>\n",
       "      <th>23392</th>\n",
       "      <td>aotizhongxin_aq</td>\n",
       "      <td>2018-03-01 04:00:00</td>\n",
       "      <td>NaN</td>\n",
       "      <td>18.0</td>\n",
       "      <td>82.0</td>\n",
       "    </tr>\n",
       "  </tbody>\n",
       "</table>\n",
       "</div>"
      ],
      "text/plain": [
       "            station_id                 time  PM25  PM10    O3\n",
       "23388  aotizhongxin_aq  2018-03-01 00:00:00   9.0  47.0  58.0\n",
       "23389  aotizhongxin_aq  2018-03-01 01:00:00  14.0  47.0  61.0\n",
       "23390  aotizhongxin_aq  2018-03-01 02:00:00  11.0  38.0  61.0\n",
       "23391  aotizhongxin_aq  2018-03-01 03:00:00   4.0  33.0   NaN\n",
       "23392  aotizhongxin_aq  2018-03-01 04:00:00   NaN  18.0  82.0"
      ]
     },
     "execution_count": 12,
     "metadata": {},
     "output_type": "execute_result"
    }
   ],
   "source": [
    "aq_03 = pd.read_csv(FILE_FOLDER % 'airQuality_201802-201803.csv')\n",
    "print(aq_03.columns)\n",
    "aq_03 = aq_03[['stationId', 'utc_time','PM2.5','PM10','O3']]\n",
    "aq_03.columns = re_named_labels\n",
    "aq_03['datetime'] = pd.to_datetime(aq_03['time'])\n",
    "aq_03 = aq_03[\n",
    "    aq_03['datetime']>= start_date_18\n",
    "]\n",
    "aq_03 = aq_03[re_named_labels]\n",
    "aq_03.head()"
   ]
  },
  {
   "cell_type": "code",
   "execution_count": 19,
   "metadata": {},
   "outputs": [
    {
     "data": {
      "text/plain": [
       "311010"
      ]
     },
     "execution_count": 19,
     "metadata": {},
     "output_type": "execute_result"
    }
   ],
   "source": [
    "aq_1703_1707 = pd.read_csv(FILE_FOLDER % 'airQuality_201701-201801.csv')\n",
    "len(aq_1703_1707)\n",
    "aq_1703_1707\n",
    "\n",
    "# aq_1703_1707 = aq_1703_1707[['stationId', 'utc_time','PM2.5','PM10','O3']]\n",
    "# aq_1703_1707.columns = re_named_labels\n",
    "# aq_1703_1707['datetime'] = pd.to_datetime(aq_1703_1707['time'])\n",
    "# aq_1703_1707 = aq_1703_1707[\n",
    "#     (aq_1703_1707['datetime'] >= start_date) &\n",
    "#     (aq_1703_1707['datetime']< end_date) \n",
    "# ]\n",
    "# # aq_1703_1707 = aq_1703_1707[re_named_labels]\n",
    "# aq_1703_1707.head()"
   ]
  },
  {
   "cell_type": "code",
   "execution_count": 13,
   "metadata": {},
   "outputs": [
    {
     "name": "stderr",
     "output_type": "stream",
     "text": [
      "  0%|          | 0/35 [00:00<?, ?it/s]/Users/haomao/anaconda3/envs/py36/lib/python3.6/site-packages/ipykernel_launcher.py:18: SettingWithCopyWarning: \n",
      "A value is trying to be set on a copy of a slice from a DataFrame.\n",
      "Try using .loc[row_indexer,col_indexer] = value instead\n",
      "\n",
      "See the caveats in the documentation: http://pandas.pydata.org/pandas-docs/stable/indexing.html#indexing-view-versus-copy\n",
      "/Users/haomao/anaconda3/envs/py36/lib/python3.6/site-packages/ipykernel_launcher.py:19: SettingWithCopyWarning: \n",
      "A value is trying to be set on a copy of a slice from a DataFrame.\n",
      "Try using .loc[row_indexer,col_indexer] = value instead\n",
      "\n",
      "See the caveats in the documentation: http://pandas.pydata.org/pandas-docs/stable/indexing.html#indexing-view-versus-copy\n",
      "100%|██████████| 35/35 [1:55:06<00:00, 203.31s/it]"
     ]
    },
    {
     "name": "stdout",
     "output_type": "stream",
     "text": [
      "cost time: 6906\n"
     ]
    },
    {
     "name": "stderr",
     "output_type": "stream",
     "text": [
      "\n"
     ]
    }
   ],
   "source": [
    "# df_03 = generate_features_for_aqStations(aq_nearest_dict,df_grid_stations_03,df_ow_stations_03,aq_03)"
   ]
  },
  {
   "cell_type": "code",
   "execution_count": 32,
   "metadata": {},
   "outputs": [
    {
     "data": {
      "text/html": [
       "<div>\n",
       "<style scoped>\n",
       "    .dataframe tbody tr th:only-of-type {\n",
       "        vertical-align: middle;\n",
       "    }\n",
       "\n",
       "    .dataframe tbody tr th {\n",
       "        vertical-align: top;\n",
       "    }\n",
       "\n",
       "    .dataframe thead th {\n",
       "        text-align: right;\n",
       "    }\n",
       "</style>\n",
       "<table border=\"1\" class=\"dataframe\">\n",
       "  <thead>\n",
       "    <tr style=\"text-align: right;\">\n",
       "      <th></th>\n",
       "      <th>station_id</th>\n",
       "      <th>time</th>\n",
       "      <th>PM25</th>\n",
       "      <th>PM10</th>\n",
       "      <th>O3</th>\n",
       "    </tr>\n",
       "  </thead>\n",
       "  <tbody>\n",
       "    <tr>\n",
       "      <th>2662</th>\n",
       "      <td>aotizhongxin_aq</td>\n",
       "      <td>2017-05-01 00:00:00</td>\n",
       "      <td>58.0</td>\n",
       "      <td>114.0</td>\n",
       "      <td>3.0</td>\n",
       "    </tr>\n",
       "    <tr>\n",
       "      <th>2663</th>\n",
       "      <td>aotizhongxin_aq</td>\n",
       "      <td>2017-05-01 01:00:00</td>\n",
       "      <td>54.0</td>\n",
       "      <td>116.0</td>\n",
       "      <td>24.0</td>\n",
       "    </tr>\n",
       "    <tr>\n",
       "      <th>2664</th>\n",
       "      <td>aotizhongxin_aq</td>\n",
       "      <td>2017-05-01 02:00:00</td>\n",
       "      <td>66.0</td>\n",
       "      <td>84.0</td>\n",
       "      <td>36.0</td>\n",
       "    </tr>\n",
       "    <tr>\n",
       "      <th>2665</th>\n",
       "      <td>aotizhongxin_aq</td>\n",
       "      <td>2017-05-01 03:00:00</td>\n",
       "      <td>27.0</td>\n",
       "      <td>93.0</td>\n",
       "      <td>59.0</td>\n",
       "    </tr>\n",
       "    <tr>\n",
       "      <th>2666</th>\n",
       "      <td>aotizhongxin_aq</td>\n",
       "      <td>2017-05-01 04:00:00</td>\n",
       "      <td>24.0</td>\n",
       "      <td>85.0</td>\n",
       "      <td>75.0</td>\n",
       "    </tr>\n",
       "  </tbody>\n",
       "</table>\n",
       "</div>"
      ],
      "text/plain": [
       "           station_id                 time  PM25   PM10    O3\n",
       "2662  aotizhongxin_aq  2017-05-01 00:00:00  58.0  114.0   3.0\n",
       "2663  aotizhongxin_aq  2017-05-01 01:00:00  54.0  116.0  24.0\n",
       "2664  aotizhongxin_aq  2017-05-01 02:00:00  66.0   84.0  36.0\n",
       "2665  aotizhongxin_aq  2017-05-01 03:00:00  27.0   93.0  59.0\n",
       "2666  aotizhongxin_aq  2017-05-01 04:00:00  24.0   85.0  75.0"
      ]
     },
     "execution_count": 32,
     "metadata": {},
     "output_type": "execute_result"
    }
   ],
   "source": [
    "splited_date = '2017-05-01 00:00:00'\n",
    "# aq_1703_1704 = aq_1703_1707[\n",
    "#     (aq_1703_1707['datetime'] < splited_date) \n",
    "# ]\n",
    "\n",
    "aq_1705_1707 =  aq_1703_1707[\n",
    "    aq_1703_1707['datetime'] >= splited_date\n",
    "]\n",
    "aq_1705_1707 = aq_1705_1707[re_named_labels]\n",
    "df_ow_stations_1705_1707 = df_ow_stations_1703_1707[\n",
    "    df_ow_stations_1703_1707['datetime'] >= splited_date\n",
    "]\n",
    "df_grid_stations_1705_1707= df_grid_stations_1703_1707[\n",
    "    df_grid_stations_1703_1707['datetime'] >= splited_date\n",
    "]\n",
    "aq_1705_1707.head()"
   ]
  },
  {
   "cell_type": "code",
   "execution_count": 35,
   "metadata": {},
   "outputs": [
    {
     "name": "stderr",
     "output_type": "stream",
     "text": [
      "  0%|          | 0/35 [00:00<?, ?it/s]/Users/haomao/anaconda3/envs/py36/lib/python3.6/site-packages/ipykernel_launcher.py:18: SettingWithCopyWarning: \n",
      "A value is trying to be set on a copy of a slice from a DataFrame.\n",
      "Try using .loc[row_indexer,col_indexer] = value instead\n",
      "\n",
      "See the caveats in the documentation: http://pandas.pydata.org/pandas-docs/stable/indexing.html#indexing-view-versus-copy\n"
     ]
    },
    {
     "name": "stdout",
     "output_type": "stream",
     "text": [
      "['hadian_meo', 'beijing_grid_283', 'beijing_meo', 'beijing_grid_302', 'beijing_grid_282', 'beijing_grid_325', 'beijing_grid_324', 'chaoyang_meo', 'beijing_grid_304', 'beijing_grid_303']\n"
     ]
    },
    {
     "name": "stderr",
     "output_type": "stream",
     "text": [
      "/Users/haomao/anaconda3/envs/py36/lib/python3.6/site-packages/ipykernel_launcher.py:19: SettingWithCopyWarning: \n",
      "A value is trying to be set on a copy of a slice from a DataFrame.\n",
      "Try using .loc[row_indexer,col_indexer] = value instead\n",
      "\n",
      "See the caveats in the documentation: http://pandas.pydata.org/pandas-docs/stable/indexing.html#indexing-view-versus-copy\n",
      "  3%|▎         | 1/35 [08:22<4:44:54, 502.78s/it]"
     ]
    },
    {
     "name": "stdout",
     "output_type": "stream",
     "text": [
      "['beijing_grid_325', 'beijing_grid_281', 'beijing_grid_323', 'chaoyang_meo', 'beijing_grid_304', 'beijing_grid_282', 'beijing_meo', 'beijing_grid_324', 'beijing_grid_302', 'beijing_grid_303']\n"
     ]
    },
    {
     "name": "stderr",
     "output_type": "stream",
     "text": [
      "\r",
      "  6%|▌         | 2/35 [16:34<4:34:45, 499.58s/it]"
     ]
    },
    {
     "name": "stdout",
     "output_type": "stream",
     "text": [
      "['beijing_grid_302', 'beijing_grid_261', 'beijing_grid_281', 'shijingshan_meo', 'fengtai_meo', 'beijing_grid_304', 'beijing_grid_283', 'hadian_meo', 'beijing_grid_303', 'beijing_grid_282']\n"
     ]
    },
    {
     "name": "stderr",
     "output_type": "stream",
     "text": [
      "\r",
      "  9%|▊         | 3/35 [24:48<4:25:30, 497.83s/it]"
     ]
    },
    {
     "name": "stdout",
     "output_type": "stream",
     "text": [
      "['beijing_grid_324', 'beijing_meo', 'beijing_grid_283', 'beijing_grid_304', 'hadian_meo', 'fengtai_meo', 'beijing_grid_281', 'beijing_grid_302', 'beijing_grid_282', 'beijing_grid_303']\n"
     ]
    },
    {
     "name": "stderr",
     "output_type": "stream",
     "text": [
      "\r",
      " 11%|█▏        | 4/35 [33:15<4:18:32, 500.40s/it]"
     ]
    },
    {
     "name": "stdout",
     "output_type": "stream",
     "text": [
      "['beijing_grid_284', 'beijing_grid_324', 'beijing_grid_282', 'beijing_grid_305', 'chaoyang_meo', 'hadian_meo', 'beijing_grid_325', 'beijing_grid_283', 'beijing_grid_303', 'beijing_grid_304']\n"
     ]
    },
    {
     "name": "stderr",
     "output_type": "stream",
     "text": [
      "\r",
      " 14%|█▍        | 5/35 [41:54<4:13:01, 506.05s/it]"
     ]
    },
    {
     "name": "stdout",
     "output_type": "stream",
     "text": [
      "['beijing_grid_346', 'beijing_grid_302', 'beijing_grid_345', 'beijing_grid_323', 'beijing_meo', 'beijing_grid_304', 'beijing_grid_325', 'beijing_grid_303', 'beijing_grid_324', 'chaoyang_meo']\n"
     ]
    },
    {
     "name": "stderr",
     "output_type": "stream",
     "text": [
      "\r",
      " 17%|█▋        | 6/35 [50:03<4:02:11, 501.09s/it]"
     ]
    },
    {
     "name": "stdout",
     "output_type": "stream",
     "text": [
      "['beijing_grid_303', 'fengtai_meo', 'beijing_grid_261', 'beijing_grid_284', 'beijing_grid_304', 'shijingshan_meo', 'beijing_grid_262', 'beijing_grid_282', 'beijing_grid_283', 'hadian_meo']\n"
     ]
    },
    {
     "name": "stderr",
     "output_type": "stream",
     "text": [
      "\r",
      " 20%|██        | 7/35 [58:15<3:52:30, 498.22s/it]"
     ]
    },
    {
     "name": "stdout",
     "output_type": "stream",
     "text": [
      "['beijing_grid_283', 'shijingshan_meo', 'pingchang_meo', 'beijing_grid_243', 'beijing_grid_284', 'beijing_grid_241', 'beijing_grid_264', 'beijing_grid_262', 'beijing_grid_242', 'beijing_grid_263']\n"
     ]
    },
    {
     "name": "stderr",
     "output_type": "stream",
     "text": [
      "\r",
      " 23%|██▎       | 8/35 [1:06:23<3:42:52, 495.29s/it]"
     ]
    },
    {
     "name": "stdout",
     "output_type": "stream",
     "text": [
      "['fengtai_meo', 'beijing_grid_284', 'mentougou_meo', 'beijing_grid_241', 'beijing_grid_261', 'beijing_grid_263', 'beijing_grid_283', 'hadian_meo', 'shijingshan_meo', 'beijing_grid_262']\n"
     ]
    },
    {
     "name": "stderr",
     "output_type": "stream",
     "text": [
      "\r",
      " 26%|██▌       | 9/35 [1:14:46<3:35:39, 497.67s/it]"
     ]
    },
    {
     "name": "stdout",
     "output_type": "stream",
     "text": [
      "['beijing_grid_303', 'mentougou_meo', 'hadian_meo', 'fangshan_meo', 'shijingshan_meo', 'beijing_grid_260', 'beijing_grid_261', 'beijing_grid_281', 'beijing_grid_282', 'fengtai_meo']\n"
     ]
    },
    {
     "name": "stderr",
     "output_type": "stream",
     "text": [
      "\r",
      " 29%|██▊       | 10/35 [1:22:46<3:25:03, 492.15s/it]"
     ]
    },
    {
     "name": "stdout",
     "output_type": "stream",
     "text": [
      "['beijing_grid_259', 'shijingshan_meo', 'beijing_grid_238', 'fengtai_meo', 'beijing_grid_261', 'beijing_grid_240', 'fangshan_meo', 'mentougou_meo', 'beijing_grid_260', 'beijing_grid_239']\n"
     ]
    },
    {
     "name": "stderr",
     "output_type": "stream",
     "text": [
      "\r",
      " 31%|███▏      | 11/35 [1:31:07<3:17:54, 494.78s/it]"
     ]
    },
    {
     "name": "stdout",
     "output_type": "stream",
     "text": [
      "['hadian_meo', 'beijing_grid_241', 'beijing_grid_282', 'beijing_grid_260', 'beijing_grid_262', 'beijing_grid_240', 'fengtai_meo', 'mentougou_meo', 'shijingshan_meo', 'beijing_grid_261']\n"
     ]
    },
    {
     "name": "stderr",
     "output_type": "stream",
     "text": [
      "\r",
      " 34%|███▍      | 12/35 [1:39:26<3:10:13, 496.25s/it]"
     ]
    },
    {
     "name": "stdout",
     "output_type": "stream",
     "text": [
      "['beijing_grid_258', 'beijing_grid_218', 'mentougou_meo', 'beijing_grid_237', 'beijing_grid_217', 'beijing_grid_260', 'beijing_grid_259', 'beijing_grid_239', 'fangshan_meo', 'beijing_grid_238']\n"
     ]
    },
    {
     "name": "stderr",
     "output_type": "stream",
     "text": [
      "\r",
      " 37%|███▋      | 13/35 [1:48:18<3:05:49, 506.79s/it]"
     ]
    },
    {
     "name": "stdout",
     "output_type": "stream",
     "text": [
      "['beijing_grid_321', 'beijing_grid_281', 'beijing_grid_323', 'beijing_grid_300', 'beijing_meo', 'beijing_grid_280', 'beijing_grid_322', 'beijing_grid_302', 'daxing_meo', 'beijing_grid_301']\n"
     ]
    },
    {
     "name": "stderr",
     "output_type": "stream",
     "text": [
      "\r",
      " 40%|████      | 14/35 [1:58:02<3:05:31, 530.05s/it]"
     ]
    },
    {
     "name": "stdout",
     "output_type": "stream",
     "text": [
      "['beijing_grid_303', 'beijing_grid_301', 'beijing_grid_345', 'beijing_grid_343', 'beijing_grid_302', 'beijing_grid_324', 'beijing_grid_322', 'beijing_grid_344', 'beijing_meo', 'beijing_grid_323']\n"
     ]
    },
    {
     "name": "stderr",
     "output_type": "stream",
     "text": [
      "\r",
      " 43%|████▎     | 15/35 [2:07:19<2:59:19, 538.00s/it]"
     ]
    },
    {
     "name": "stdout",
     "output_type": "stream",
     "text": [
      "['beijing_grid_324', 'beijing_grid_386', 'beijing_grid_387', 'beijing_grid_346', 'beijing_grid_367', 'beijing_grid_344', 'tongzhou_meo', 'beijing_grid_365', 'beijing_grid_345', 'beijing_grid_366']\n"
     ]
    },
    {
     "name": "stderr",
     "output_type": "stream",
     "text": [
      "\r",
      " 46%|████▌     | 16/35 [2:16:28<2:51:25, 541.32s/it]"
     ]
    },
    {
     "name": "stdout",
     "output_type": "stream",
     "text": [
      "['beijing_grid_390', 'beijing_grid_326', 'beijing_grid_389', 'beijing_grid_346', 'beijing_grid_367', 'beijing_grid_348', 'beijing_grid_369', 'beijing_grid_347', 'beijing_grid_368', 'shunyi_meo']\n"
     ]
    },
    {
     "name": "stderr",
     "output_type": "stream",
     "text": [
      "\r",
      " 49%|████▊     | 17/35 [2:25:18<2:41:25, 538.09s/it]"
     ]
    },
    {
     "name": "stdout",
     "output_type": "stream",
     "text": [
      "['beijing_grid_306', 'beijing_grid_244', 'beijing_grid_284', 'beijing_grid_243', 'beijing_grid_263', 'beijing_grid_286', 'beijing_grid_265', 'beijing_grid_285', 'beijing_grid_264', 'pingchang_meo']\n"
     ]
    },
    {
     "name": "stderr",
     "output_type": "stream",
     "text": [
      "\r",
      " 51%|█████▏    | 18/35 [2:34:08<2:31:47, 535.72s/it]"
     ]
    },
    {
     "name": "stdout",
     "output_type": "stream",
     "text": [
      "['fengtai_meo', 'beijing_grid_239', 'beijing_grid_220', 'beijing_grid_262', 'beijing_grid_219', 'beijing_grid_261', 'shijingshan_meo', 'mentougou_meo', 'beijing_grid_241', 'beijing_grid_240']\n"
     ]
    },
    {
     "name": "stderr",
     "output_type": "stream",
     "text": [
      "\r",
      " 54%|█████▍    | 19/35 [2:42:53<2:21:56, 532.29s/it]"
     ]
    },
    {
     "name": "stdout",
     "output_type": "stream",
     "text": [
      "['beijing_grid_430', 'beijing_grid_454', 'beijing_grid_451', 'beijing_grid_474', 'beijing_grid_432', 'beijing_grid_473', 'beijing_grid_431', 'beijing_grid_453', 'beijing_grid_452', 'pinggu_meo']\n"
     ]
    },
    {
     "name": "stderr",
     "output_type": "stream",
     "text": [
      "\r",
      " 57%|█████▋    | 20/35 [2:51:27<2:11:43, 526.92s/it]"
     ]
    },
    {
     "name": "stdout",
     "output_type": "stream",
     "text": [
      "['beijing_grid_351', 'beijing_grid_369', 'beijing_grid_329', 'beijing_grid_348', 'beijing_grid_328', 'beijing_grid_371', 'beijing_grid_370', 'beijing_grid_350', 'beijing_grid_349', 'huairou_meo']\n"
     ]
    },
    {
     "name": "stderr",
     "output_type": "stream",
     "text": [
      "\r",
      " 60%|██████    | 21/35 [3:00:35<2:04:23, 533.14s/it]"
     ]
    },
    {
     "name": "stdout",
     "output_type": "stream",
     "text": [
      "['beijing_grid_434', 'beijing_grid_370', 'beijing_grid_414', 'beijing_grid_371', 'beijing_grid_393', 'beijing_grid_412', 'beijing_grid_391', 'beijing_grid_413', 'beijing_grid_392', 'miyun_meo']\n"
     ]
    },
    {
     "name": "stderr",
     "output_type": "stream",
     "text": [
      "\r",
      " 63%|██████▎   | 22/35 [3:09:46<1:56:42, 538.67s/it]"
     ]
    },
    {
     "name": "stdout",
     "output_type": "stream",
     "text": [
      "['beijing_grid_205', 'beijing_grid_223', 'beijing_grid_226', 'beijing_grid_245', 'beijing_grid_246', 'beijing_grid_203', 'beijing_grid_204', 'beijing_grid_224', 'beijing_grid_225', 'yanqing_meo']\n"
     ]
    },
    {
     "name": "stderr",
     "output_type": "stream",
     "text": [
      "\r",
      " 66%|██████▌   | 23/35 [3:18:35<1:47:08, 535.67s/it]"
     ]
    },
    {
     "name": "stdout",
     "output_type": "stream",
     "text": [
      "['beijing_grid_245', 'beijing_grid_243', 'beijing_grid_287', 'beijing_grid_285', 'beijing_grid_244', 'beijing_grid_266', 'beijing_grid_264', 'beijing_grid_286', 'pingchang_meo', 'beijing_grid_265']\n"
     ]
    },
    {
     "name": "stderr",
     "output_type": "stream",
     "text": [
      "\r",
      " 69%|██████▊   | 24/35 [3:27:24<1:37:51, 533.73s/it]"
     ]
    },
    {
     "name": "stdout",
     "output_type": "stream",
     "text": [
      "['beijing_grid_222', 'beijing_grid_204', 'beijing_grid_225', 'beijing_grid_244', 'beijing_grid_245', 'beijing_grid_202', 'beijing_grid_203', 'yanqing_meo', 'beijing_grid_223', 'beijing_grid_224']\n"
     ]
    },
    {
     "name": "stderr",
     "output_type": "stream",
     "text": [
      "\r",
      " 71%|███████▏  | 25/35 [3:36:56<1:30:52, 545.23s/it]"
     ]
    },
    {
     "name": "stdout",
     "output_type": "stream",
     "text": [
      "['beijing_grid_394', 'beijing_grid_392', 'beijing_grid_436', 'beijing_grid_434', 'miyun_meo', 'beijing_grid_393', 'beijing_grid_415', 'beijing_grid_413', 'beijing_grid_435', 'beijing_grid_414']\n"
     ]
    },
    {
     "name": "stderr",
     "output_type": "stream",
     "text": [
      "\r",
      " 74%|███████▍  | 26/35 [3:45:47<1:21:08, 540.97s/it]"
     ]
    },
    {
     "name": "stdout",
     "output_type": "stream",
     "text": [
      "['beijing_grid_430', 'beijing_grid_432', 'beijing_grid_472', 'beijing_grid_474', 'beijing_grid_431', 'beijing_grid_451', 'beijing_grid_453', 'beijing_grid_473', 'pinggu_meo', 'beijing_grid_452']\n"
     ]
    },
    {
     "name": "stderr",
     "output_type": "stream",
     "text": [
      "\r",
      " 77%|███████▋  | 27/35 [3:55:12<1:13:03, 547.99s/it]"
     ]
    },
    {
     "name": "stdout",
     "output_type": "stream",
     "text": [
      "['beijing_grid_405', 'beijing_grid_407', 'beijing_grid_363', 'tongzhou_meo', 'beijing_grid_365', 'beijing_grid_406', 'beijing_grid_384', 'beijing_grid_386', 'beijing_grid_364', 'beijing_grid_385']\n"
     ]
    },
    {
     "name": "stderr",
     "output_type": "stream",
     "text": [
      "\r",
      " 80%|████████  | 28/35 [4:04:25<1:04:06, 549.49s/it]"
     ]
    },
    {
     "name": "stdout",
     "output_type": "stream",
     "text": [
      "['beijing_grid_280', 'beijing_grid_298', 'beijing_grid_256', 'beijing_grid_300', 'beijing_grid_258', 'beijing_grid_277', 'beijing_grid_299', 'beijing_grid_257', 'beijing_grid_279', 'beijing_grid_278']\n"
     ]
    },
    {
     "name": "stderr",
     "output_type": "stream",
     "text": [
      "\r",
      " 83%|████████▎ | 29/35 [4:17:37<1:02:13, 622.25s/it]"
     ]
    },
    {
     "name": "stdout",
     "output_type": "stream",
     "text": [
      "['beijing_grid_214', 'beijing_grid_196', 'beijing_grid_238', 'beijing_grid_194', 'beijing_grid_236', 'beijing_grid_217', 'beijing_grid_195', 'beijing_grid_237', 'beijing_grid_215', 'beijing_grid_216']\n"
     ]
    },
    {
     "name": "stderr",
     "output_type": "stream",
     "text": [
      "\r",
      " 86%|████████▌ | 30/35 [4:31:53<57:42, 692.48s/it]  "
     ]
    },
    {
     "name": "stdout",
     "output_type": "stream",
     "text": [
      "['beijing_grid_283', 'beijing_grid_281', 'hadian_meo', 'beijing_meo', 'chaoyang_meo', 'beijing_grid_324', 'beijing_grid_304', 'beijing_grid_302', 'beijing_grid_282', 'beijing_grid_303']\n"
     ]
    },
    {
     "name": "stderr",
     "output_type": "stream",
     "text": [
      "\r",
      " 89%|████████▊ | 31/35 [4:43:22<46:05, 691.42s/it]"
     ]
    },
    {
     "name": "stdout",
     "output_type": "stream",
     "text": [
      "['fengtai_meo', 'chaoyang_meo', 'beijing_grid_323', 'beijing_grid_304', 'beijing_grid_281', 'beijing_grid_324', 'beijing_meo', 'beijing_grid_282', 'beijing_grid_302', 'beijing_grid_303']\n"
     ]
    },
    {
     "name": "stderr",
     "output_type": "stream",
     "text": [
      "\r",
      " 91%|█████████▏| 32/35 [4:52:43<32:36, 652.28s/it]"
     ]
    },
    {
     "name": "stdout",
     "output_type": "stream",
     "text": [
      "['beijing_grid_305', 'beijing_grid_284', 'chaoyang_meo', 'shijingshan_meo', 'fengtai_meo', 'beijing_grid_303', 'beijing_grid_282', 'beijing_grid_304', 'beijing_grid_283', 'hadian_meo']\n"
     ]
    },
    {
     "name": "stderr",
     "output_type": "stream",
     "text": [
      "\r",
      " 94%|█████████▍| 33/35 [5:02:03<20:49, 624.72s/it]"
     ]
    },
    {
     "name": "stdout",
     "output_type": "stream",
     "text": [
      "['beijing_grid_304', 'beijing_grid_323', 'beijing_grid_324', 'daxing_meo', 'fengtai_meo', 'beijing_meo', 'beijing_grid_281', 'beijing_grid_282', 'beijing_grid_302', 'beijing_grid_303']\n"
     ]
    },
    {
     "name": "stderr",
     "output_type": "stream",
     "text": [
      "\r",
      " 97%|█████████▋| 34/35 [5:11:19<10:04, 604.12s/it]"
     ]
    },
    {
     "name": "stdout",
     "output_type": "stream",
     "text": [
      "['beijing_grid_302', 'beijing_grid_323', 'beijing_meo', 'beijing_grid_346', 'beijing_grid_345', 'beijing_grid_304', 'beijing_grid_303', 'beijing_grid_325', 'beijing_grid_324', 'chaoyang_meo']\n"
     ]
    },
    {
     "name": "stderr",
     "output_type": "stream",
     "text": [
      "\r",
      "100%|██████████| 35/35 [5:21:15<00:00, 601.42s/it]"
     ]
    },
    {
     "name": "stdout",
     "output_type": "stream",
     "text": [
      "cost time: 19275\n"
     ]
    },
    {
     "name": "stderr",
     "output_type": "stream",
     "text": [
      "\n"
     ]
    }
   ],
   "source": [
    "# df_1705_1707 = generate_features_for_aqStations(aq_nearest_dict,\n",
    "#                                                 df_grid_stations_1705_1707,\n",
    "#                                                 df_ow_stations_1705_1707,\n",
    "#                                                 aq_1705_1707)"
   ]
  },
  {
   "cell_type": "code",
   "execution_count": 30,
   "metadata": {},
   "outputs": [
    {
     "data": {
      "text/html": [
       "<div>\n",
       "<style scoped>\n",
       "    .dataframe tbody tr th:only-of-type {\n",
       "        vertical-align: middle;\n",
       "    }\n",
       "\n",
       "    .dataframe tbody tr th {\n",
       "        vertical-align: top;\n",
       "    }\n",
       "\n",
       "    .dataframe thead th {\n",
       "        text-align: right;\n",
       "    }\n",
       "</style>\n",
       "<table border=\"1\" class=\"dataframe\">\n",
       "  <thead>\n",
       "    <tr style=\"text-align: right;\">\n",
       "      <th></th>\n",
       "      <th>station_id</th>\n",
       "      <th>time</th>\n",
       "      <th>PM25</th>\n",
       "      <th>PM10</th>\n",
       "      <th>O3</th>\n",
       "    </tr>\n",
       "  </thead>\n",
       "  <tbody>\n",
       "    <tr>\n",
       "      <th>1329</th>\n",
       "      <td>aotizhongxin_aq</td>\n",
       "      <td>2017-03-01 00:00:00</td>\n",
       "      <td>9.0</td>\n",
       "      <td>43.0</td>\n",
       "      <td>96.0</td>\n",
       "    </tr>\n",
       "    <tr>\n",
       "      <th>1330</th>\n",
       "      <td>aotizhongxin_aq</td>\n",
       "      <td>2017-03-01 01:00:00</td>\n",
       "      <td>4.0</td>\n",
       "      <td>54.0</td>\n",
       "      <td>100.0</td>\n",
       "    </tr>\n",
       "    <tr>\n",
       "      <th>1331</th>\n",
       "      <td>aotizhongxin_aq</td>\n",
       "      <td>2017-03-01 02:00:00</td>\n",
       "      <td>7.0</td>\n",
       "      <td>75.0</td>\n",
       "      <td>109.0</td>\n",
       "    </tr>\n",
       "    <tr>\n",
       "      <th>1332</th>\n",
       "      <td>aotizhongxin_aq</td>\n",
       "      <td>2017-03-01 03:00:00</td>\n",
       "      <td>7.0</td>\n",
       "      <td>135.0</td>\n",
       "      <td>118.0</td>\n",
       "    </tr>\n",
       "    <tr>\n",
       "      <th>1333</th>\n",
       "      <td>aotizhongxin_aq</td>\n",
       "      <td>2017-03-01 04:00:00</td>\n",
       "      <td>8.0</td>\n",
       "      <td>58.0</td>\n",
       "      <td>120.0</td>\n",
       "    </tr>\n",
       "  </tbody>\n",
       "</table>\n",
       "</div>"
      ],
      "text/plain": [
       "           station_id                 time  PM25   PM10     O3\n",
       "1329  aotizhongxin_aq  2017-03-01 00:00:00   9.0   43.0   96.0\n",
       "1330  aotizhongxin_aq  2017-03-01 01:00:00   4.0   54.0  100.0\n",
       "1331  aotizhongxin_aq  2017-03-01 02:00:00   7.0   75.0  109.0\n",
       "1332  aotizhongxin_aq  2017-03-01 03:00:00   7.0  135.0  118.0\n",
       "1333  aotizhongxin_aq  2017-03-01 04:00:00   8.0   58.0  120.0"
      ]
     },
     "execution_count": 30,
     "metadata": {},
     "output_type": "execute_result"
    }
   ],
   "source": [
    "splited_date = '2017-05-01 00:00:00'\n",
    "# aq_1703_1704 = aq_1703_1707[\n",
    "#     (aq_1703_1707['datetime'] < splited_date) \n",
    "# ]\n",
    "\n",
    "aq_1703_1704 =  aq_1703_1707[\n",
    "    aq_1703_1707['datetime'] < splited_date\n",
    "]\n",
    "aq_1703_1704 = aq_1703_1704[re_named_labels]\n",
    "\n",
    "df_ow_stations_1703_1704 = df_ow_stations_1703_1707[\n",
    "    df_ow_stations_1703_1707['datetime'] < splited_date\n",
    "]\n",
    "df_grid_stations_1703_1704= df_grid_stations_1703_1707[\n",
    "    df_grid_stations_1703_1707['datetime'] < splited_date\n",
    "]\n",
    "aq_1703_1704.head()"
   ]
  },
  {
   "cell_type": "code",
   "execution_count": 31,
   "metadata": {},
   "outputs": [
    {
     "name": "stderr",
     "output_type": "stream",
     "text": [
      "  0%|          | 0/35 [00:00<?, ?it/s]/Users/haomao/anaconda3/envs/py36/lib/python3.6/site-packages/ipykernel_launcher.py:18: SettingWithCopyWarning: \n",
      "A value is trying to be set on a copy of a slice from a DataFrame.\n",
      "Try using .loc[row_indexer,col_indexer] = value instead\n",
      "\n",
      "See the caveats in the documentation: http://pandas.pydata.org/pandas-docs/stable/indexing.html#indexing-view-versus-copy\n",
      "/Users/haomao/anaconda3/envs/py36/lib/python3.6/site-packages/ipykernel_launcher.py:19: SettingWithCopyWarning: \n",
      "A value is trying to be set on a copy of a slice from a DataFrame.\n",
      "Try using .loc[row_indexer,col_indexer] = value instead\n",
      "\n",
      "See the caveats in the documentation: http://pandas.pydata.org/pandas-docs/stable/indexing.html#indexing-view-versus-copy\n",
      "100%|██████████| 35/35 [3:48:29<00:00, 409.18s/it]  "
     ]
    },
    {
     "name": "stdout",
     "output_type": "stream",
     "text": [
      "cost time: 13709\n"
     ]
    },
    {
     "name": "stderr",
     "output_type": "stream",
     "text": [
      "\n"
     ]
    }
   ],
   "source": [
    "df_1703_1704 = generate_features_for_aqStations(aq_nearest_dict,\n",
    "                                                df_grid_stations_1703_1704,\n",
    "                                                df_ow_stations_1703_1704,\n",
    "                                                aq_1703_1704)"
   ]
  },
  {
   "cell_type": "code",
   "execution_count": 32,
   "metadata": {},
   "outputs": [],
   "source": [
    "# df_1703_1704.to_csv('f_1703_1704.csv')"
   ]
  },
  {
   "cell_type": "markdown",
   "metadata": {},
   "source": [
    "# Merge all train data"
   ]
  },
  {
   "cell_type": "code",
   "execution_count": 33,
   "metadata": {},
   "outputs": [],
   "source": [
    "df_1703_1704 = pd.read_csv(AFTER_FILE_FOLDER%'f_1703_1704.csv')\n",
    "df_1705_1707 = pd.read_csv(AFTER_FILE_FOLDER%'f_1705_1707.csv')\n",
    "df_1803 = pd.read_csv(AFTER_FILE_FOLDER%'f_03.csv')\n",
    "df_1804 = pd.read_csv(AFTER_FILE_FOLDER%'f_04.csv')"
   ]
  },
  {
   "cell_type": "code",
   "execution_count": 39,
   "metadata": {},
   "outputs": [
    {
     "name": "stdout",
     "output_type": "stream",
     "text": [
      "44975\n",
      "104510\n",
      "130058\n",
      "153160\n"
     ]
    }
   ],
   "source": [
    "print(len(df_1703_1704))\n",
    "df_train = df_1703_1704.append(df_1705_1707)\n",
    "print(len(df_train))\n",
    "df_train = df_train.append(df_1803)\n",
    "print(len(df_train))\n",
    "df_train = df_train.append(df_1804)\n",
    "print(len(df_train))\n",
    "df_train = df_train[['aq_station_id', 'temperature', 'humidity', 'pressure',\n",
    "       'wind_speed', 'time', 'PM25', 'PM10', 'O3']]\n",
    "df_train.to_csv(AFTER_FILE_FOLDER%'train_data.csv',index=False)"
   ]
  },
  {
   "cell_type": "markdown",
   "metadata": {},
   "source": [
    "# Generate the test data for each aq station"
   ]
  },
  {
   "cell_type": "code",
   "execution_count": 8,
   "metadata": {},
   "outputs": [],
   "source": [
    "aq_nearest_dict, df_aq_stations = get_nearest_stations()"
   ]
  },
  {
   "cell_type": "code",
   "execution_count": 9,
   "metadata": {},
   "outputs": [],
   "source": [
    "def tupleArry_to_list(tupleArry, i_ele):\n",
    "    if(i_ele == 0):\n",
    "        w_list = list(map(lambda x:1.0 / x[i_ele],tupleArry))\n",
    "        return w_list\n",
    "    return list(map(lambda x:x[i_ele],tupleArry))\n",
    "\n",
    "def get_mean_without_outliers(df, feature_name):\n",
    "    df_sub = df.copy()\n",
    "    pre_mean = df_sub[feature_name].mean()\n",
    "    \"\"\"remove abs(num - mean) / mean > 50%\"\"\"\n",
    "    df_sub = df_sub[np.abs((df_sub[feature_name] - df_sub[feature_name].mean())/pre_mean) <= 0.5]\n",
    "#     print(df_sub)\n",
    "    df_nearest_3 = df_sub.tail(3)\n",
    "    \n",
    "    weight_sum = df_nearest_3['weight'].sum()\n",
    "    df_nearest_3['weight'] = df_nearest_3['weight'] / weight_sum\n",
    "    df_nearest_3['after_weighted'] = df_nearest_3['weight'] * df_sub[feature_name]\n",
    "#     print(df_nearest_3)\n",
    "#     print(df_nearest_3['after_weighted'].sum())\n",
    "    return np.around(df_nearest_3['after_weighted'].sum(), decimals=2)\n",
    "\n",
    "def generate_features_for_aqStations_testData(aq_closest_dict,df_grid_stations,df_ow_stations):\n",
    "    starttime = datetime.datetime.now()\n",
    "    dict_making = {\n",
    "        'aq_station_id':[],\n",
    "        'temperature':[],\n",
    "        'humidity':[],\n",
    "        'pressure':[],\n",
    "        'wind_speed':[],\n",
    "        'time':[],\n",
    "    }\n",
    "    for aq_station_id,aq_station_value in tqdm(aq_closest_dict.items(),total=len(aq_closest_dict)):\n",
    "#         grid_value = aq_closest_dict[aq_station_id]\n",
    "        stationId_list = tupleArry_to_list(aq_station_value, 1)\n",
    "        weight_dis = tupleArry_to_list(aq_station_value, 0)\n",
    "        #     dis_list = tupleArry_to_list(grid_value,0)\n",
    "        #     weight_s = pd.Series(dis_list)\n",
    "#         print(stationId_list)\n",
    "        df_grid_temp = df_grid_stations[df_grid_stations['station_id'].isin(stationId_list)]\n",
    "        df_ow_temp = df_ow_stations[df_ow_stations['station_id'].isin(stationId_list)]\n",
    "        #     print(df_ow_temp)\n",
    "        grid_time_span = df_grid_temp['time'].unique().tolist()\n",
    "        ow_time_span = df_ow_temp['time'].unique().tolist()\n",
    "#         print('time',ow_time_span)\n",
    "        time_span = grid_time_span if len(grid_time_span) > len(ow_time_span) else ow_time_span\n",
    "\n",
    "        for t_hour in time_span:\n",
    "            df_grid_inOneHour = df_grid_temp[df_grid_temp['time'] == t_hour]\n",
    "            df_ow_inOneHour = df_ow_temp[df_ow_temp['time'] == t_hour]\n",
    "            \n",
    "            df_merged = df_grid_inOneHour.append(df_ow_inOneHour)\n",
    "            df_merged.station_id = df_merged.station_id.astype(\"category\")\n",
    "            df_merged.station_id.cat.set_categories(stationId_list, inplace=True)\n",
    "#             pprint(stationId_list)\n",
    "            df_merged = df_merged.sort_values(['station_id']).reset_index()\n",
    "            df_merged['weight'] = pd.Series(weight_dis)\n",
    "            \n",
    "            dict_making['aq_station_id'].append(aq_station_id)\n",
    "            for f_name in ['temperature', 'pressure', 'humidity', 'wind_speed']:\n",
    "                try:\n",
    "                    new_f = get_mean_without_outliers(df_merged[[f_name,'weight']],f_name)\n",
    "                    dict_making[f_name].append(new_f)\n",
    "                except:\n",
    "                    print(aq_station_id,'at',t_hour,'is NAN')\n",
    "                    dict_making[f_name].append(np.nan)\n",
    "                \n",
    "            dict_making['time'].append(t_hour)\n",
    "    endtime = datetime.datetime.now()\n",
    "\n",
    "    print('cost time:',(endtime - starttime).seconds)\n",
    "    new_df = pd.DataFrame.from_dict(dict_making)\n",
    "    \n",
    "    return new_df"
   ]
  },
  {
   "cell_type": "code",
   "execution_count": 10,
   "metadata": {},
   "outputs": [],
   "source": [
    "df_ow_050102 = pd.read_csv(FILE_FOLDER%'observedWeather_20180501-20180502.csv')\n",
    "df_grid_050102 = pd.read_csv(FILE_FOLDER%'gridWeather_20180501-20180502.csv')\n",
    "\n",
    "df_ow_050102 = df_ow_050102[['station_id', 'time', 'weather', 'temperature', 'pressure',\n",
    "       'humidity', 'wind_speed']]\n",
    "df_grid_050102 = df_grid_050102[['station_id', 'time', 'weather', 'temperature', 'pressure',\n",
    "       'humidity', 'wind_speed']]"
   ]
  },
  {
   "cell_type": "code",
   "execution_count": 11,
   "metadata": {},
   "outputs": [
    {
     "name": "stdout",
     "output_type": "stream",
     "text": [
      "Index(['station_id', 'time', 'weather', 'temperature', 'pressure', 'humidity',\n",
      "       'wind_speed'],\n",
      "      dtype='object')\n",
      "Index(['station_id', 'time', 'weather', 'temperature', 'pressure', 'humidity',\n",
      "       'wind_speed'],\n",
      "      dtype='object')\n"
     ]
    }
   ],
   "source": [
    "print(df_ow_050102.columns)\n",
    "print(df_grid_050102.columns)"
   ]
  },
  {
   "cell_type": "code",
   "execution_count": 12,
   "metadata": {},
   "outputs": [
    {
     "name": "stderr",
     "output_type": "stream",
     "text": [
      "  0%|          | 0/35 [00:00<?, ?it/s]/Users/haomao/anaconda3/envs/py36/lib/python3.6/site-packages/ipykernel_launcher.py:16: SettingWithCopyWarning: \n",
      "A value is trying to be set on a copy of a slice from a DataFrame.\n",
      "Try using .loc[row_indexer,col_indexer] = value instead\n",
      "\n",
      "See the caveats in the documentation: http://pandas.pydata.org/pandas-docs/stable/indexing.html#indexing-view-versus-copy\n",
      "  app.launch_new_instance()\n",
      "/Users/haomao/anaconda3/envs/py36/lib/python3.6/site-packages/ipykernel_launcher.py:17: SettingWithCopyWarning: \n",
      "A value is trying to be set on a copy of a slice from a DataFrame.\n",
      "Try using .loc[row_indexer,col_indexer] = value instead\n",
      "\n",
      "See the caveats in the documentation: http://pandas.pydata.org/pandas-docs/stable/indexing.html#indexing-view-versus-copy\n",
      "100%|██████████| 35/35 [06:12<00:00, 11.06s/it]"
     ]
    },
    {
     "name": "stdout",
     "output_type": "stream",
     "text": [
      "cost time: 372\n"
     ]
    },
    {
     "name": "stderr",
     "output_type": "stream",
     "text": [
      "\n"
     ]
    }
   ],
   "source": [
    "df_test = generate_features_for_aqStations_testData(aq_nearest_dict,df_grid_050102,df_ow_050102)"
   ]
  },
  {
   "cell_type": "code",
   "execution_count": 13,
   "metadata": {},
   "outputs": [],
   "source": [
    "df_test.to_csv(AFTER_FILE_FOLDER%'test_data.csv',index=False)"
   ]
  },
  {
   "cell_type": "code",
   "execution_count": 70,
   "metadata": {},
   "outputs": [
    {
     "data": {
      "text/plain": [
       "DatetimeIndex(['2017-01-01 00:00:00', '2017-01-01 01:00:00',\n",
       "               '2017-01-01 02:00:00', '2017-01-01 03:00:00',\n",
       "               '2017-01-01 04:00:00', '2017-01-01 05:00:00',\n",
       "               '2017-01-01 06:00:00', '2017-01-01 07:00:00',\n",
       "               '2017-01-01 08:00:00', '2017-01-01 09:00:00',\n",
       "               ...\n",
       "               '2017-12-31 15:00:00', '2017-12-31 16:00:00',\n",
       "               '2017-12-31 17:00:00', '2017-12-31 18:00:00',\n",
       "               '2017-12-31 19:00:00', '2017-12-31 20:00:00',\n",
       "               '2017-12-31 21:00:00', '2017-12-31 22:00:00',\n",
       "               '2017-12-31 23:00:00', '2018-01-01 00:00:00'],\n",
       "              dtype='datetime64[ns]', length=8761, freq='H')"
      ]
     },
     "execution_count": 70,
     "metadata": {},
     "output_type": "execute_result"
    }
   ],
   "source": [
    "pd.date_range(start='2017-01-01 00:00:00', end='2018-01-01 00:00:00', closed=None, freq='H')"
   ]
  },
  {
   "cell_type": "markdown",
   "metadata": {},
   "source": [
    "# Join all tables"
   ]
  },
  {
   "cell_type": "code",
   "execution_count": 39,
   "metadata": {},
   "outputs": [
    {
     "name": "stdout",
     "output_type": "stream",
     "text": [
      "Index(['Unnamed: 0', 'aq_station_id', 'temperature', 'humidity', 'pressure',\n",
      "       'wind_speed', 'time'],\n",
      "      dtype='object')\n",
      "Index(['aq_station_id', 'time', 'temperature', 'humidity', 'pressure',\n",
      "       'wind_speed'],\n",
      "      dtype='object')\n",
      "Index(['aq_station_id', 'time', 'temperature', 'humidity', 'pressure',\n",
      "       'wind_speed'],\n",
      "      dtype='object')\n"
     ]
    }
   ],
   "source": [
    "# AFTER_FILE_FOLDER\n",
    "df_weather_17 = pd.read_csv(AFTER_FILE_FOLDER % 'new_f2017.csv')\n",
    "df_weather_18_0103 = pd.read_csv(AFTER_FILE_FOLDER % 'new_f0103_no_missing.csv')\n",
    "df_weather_19_04 = pd.read_csv(AFTER_FILE_FOLDER % 'new_f04_no_missing.csv')\n",
    "pp_columns(df_weather_17)\n",
    "pp_columns(df_weather_18_0103)\n",
    "pp_columns(df_weather_19_04)\n",
    "df_weather = df_weather_17[['aq_station_id', 'temperature', 'humidity', 'pressure',\n",
    "       'wind_speed', 'time']].append(df_weather_18_0103,sort=False).append(df_weather_19_04,sort=False)"
   ]
  },
  {
   "cell_type": "code",
   "execution_count": 40,
   "metadata": {},
   "outputs": [],
   "source": [
    "df_weather = df_weather.rename(columns={'aq_station_id':'station_id'}).set_index(['station_id','time'])"
   ]
  },
  {
   "cell_type": "code",
   "execution_count": 41,
   "metadata": {},
   "outputs": [],
   "source": [
    "df_aq17_1803 = pd.read_csv(AFTER_FILE_FOLDER % 'aq_by_time_17_1803.csv')\n",
    "df_aq1804 = pd.read_csv(AFTER_FILE_FOLDER % 'aq_by_time01-04.csv')\n",
    "# ['station_id', 'time', 'PM25', 'PM10', 'O3']"
   ]
  },
  {
   "cell_type": "code",
   "execution_count": 42,
   "metadata": {},
   "outputs": [],
   "source": [
    "df_aq_all = df_aq17_1803[['station_id', 'time', 'PM25', 'PM10', 'O3']].\\\n",
    "                                            append(df_aq1804,sort=False).\\\n",
    "                                            set_index(['station_id','time'])\n",
    "df_aq_all = df_aq_all[~df_aq_all.index.duplicated(keep='first')]\n",
    "# df_aq_all = df_aq_all.reset_index()"
   ]
  },
  {
   "cell_type": "code",
   "execution_count": 46,
   "metadata": {},
   "outputs": [],
   "source": [
    "df_aq_with_weather = df_weather.join(df_aq_all,on=('station_id', 'time')).reset_index()"
   ]
  },
  {
   "cell_type": "code",
   "execution_count": 49,
   "metadata": {},
   "outputs": [],
   "source": [
    "df_aq_with_weather.to_csv(AFTER_FILE_FOLDER % 'aq_with_weather.csv',index=False)"
   ]
  },
  {
   "cell_type": "code",
   "execution_count": null,
   "metadata": {},
   "outputs": [],
   "source": []
  }
 ],
 "metadata": {
  "kernelspec": {
   "display_name": "Python 3",
   "language": "python",
   "name": "python3"
  },
  "language_info": {
   "codemirror_mode": {
    "name": "ipython",
    "version": 3
   },
   "file_extension": ".py",
   "mimetype": "text/x-python",
   "name": "python",
   "nbconvert_exporter": "python",
   "pygments_lexer": "ipython3",
   "version": "3.6.7"
  }
 },
 "nbformat": 4,
 "nbformat_minor": 2
}
