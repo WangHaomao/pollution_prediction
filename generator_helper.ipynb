{
 "cells": [
  {
   "cell_type": "code",
   "execution_count": 1,
   "metadata": {},
   "outputs": [],
   "source": [
    "# data engineer\n",
    "import pandas as pd\n",
    "import numpy as np\n",
    "import queue\n",
    "from pprint import pprint\n",
    "from sklearn.ensemble import IsolationForest\n",
    "import math\n",
    "from tqdm import tqdm\n",
    "from datetime import datetime, timedelta\n",
    "FILE_FOLDER = '../prediction_data/%s'\n",
    "AFTER_FILE_FOLDER = '../prediction_data/afterAnalysis/%s'"
   ]
  },
  {
   "cell_type": "code",
   "execution_count": 3,
   "metadata": {},
   "outputs": [],
   "source": [
    "def point_dis_square(x1, y1, x2, y2):\n",
    "    dis = (x1 * 1.0 - x2) * (x1 * 1.0 - x2) + (y1 * 1.0 - y2) * (y1 * 1.0 - y2)\n",
    "    return math.sqrt(dis)\n",
    "\n",
    "def get_nearest_stations(df_grid_stations,closest_num=10):\n",
    "    df_aq_stations = pd.read_csv(AFTER_FILE_FOLDER % 'aq_stations.csv')\n",
    "#     df_grid_stations = pd.read_csv(AFTER_FILE_FOLDER % 'grid_stations.csv')\n",
    "\n",
    "    aq_len = len(df_aq_stations.stationId)\n",
    "    grid_len = len(df_grid_stations)\n",
    "\n",
    "#     closest_num = 10\n",
    "    aq_closest_dict = {}\n",
    "\n",
    "    for i in range(aq_len):\n",
    "\n",
    "        aq_stationId = df_aq_stations.stationId[i]\n",
    "\n",
    "        aq_la = df_aq_stations.latitude[i]\n",
    "        aq_lo = df_aq_stations.longitude[i]\n",
    "        aq_closest_dict[aq_stationId] = []\n",
    "        aq_q = queue.PriorityQueue()\n",
    "\n",
    "        for j in range(grid_len):\n",
    "            grid_la = df_grid_stations.latitude[j]\n",
    "            grid_lo = df_grid_stations.longitude[j]\n",
    "            try:\n",
    "                stationId = df_grid_stations.gridStationId[j]\n",
    "            except:\n",
    "                stationId = df_grid_stations.stationId[j]\n",
    "\n",
    "            y = (point_dis_square(aq_la, aq_lo, grid_la, grid_lo))\n",
    "            if (aq_q.qsize() < closest_num):\n",
    "                aq_q.put((-1.0 * y, stationId))\n",
    "            else:\n",
    "                if (aq_q.queue[0][0] < -1.0 * y):\n",
    "                    aq_q.get()\n",
    "                    aq_q.put((-1.0 * y, stationId))\n",
    "\n",
    "        while (not aq_q.empty()):\n",
    "            current_ele = aq_q.get()\n",
    "            aq_closest_dict[aq_stationId].append((-1*current_ele[0],current_ele[1]))\n",
    "        # pprint(aq_closest_dict[aq_stationId])\n",
    "\n",
    "#     return aq_closest_dict,df_aq_stations\n",
    "    return aq_closest_dict"
   ]
  },
  {
   "cell_type": "code",
   "execution_count": 22,
   "metadata": {},
   "outputs": [],
   "source": [
    "def get_mean(df, feature_name):\n",
    "    df_nearest_3 = df\n",
    "    weight_sum = df_nearest_3['weight'].sum()\n",
    "    df_nearest_3['weight'] = df_nearest_3['weight'] / weight_sum\n",
    "    df_nearest_3['after_weighted'] = df_nearest_3['weight'] * df_sub[feature_name]\n",
    "    return np.around(df_nearest_3['after_weighted'].sum(), decimals=2)\n",
    "\n",
    "def fill_new_aqStations(nearest_ow_dict,df_new,df_ow):\n",
    "    error_num = 0\n",
    "    df_new_copy = df_new.copy()\n",
    "    df_new_copy = df_new_copy.set_index(['aq_station_id','time'])\n",
    "    \n",
    "    df_ow_new = df_ow.set_index(['station_id','time'])\n",
    "    df_null = df_new[df_new.isnull().any(axis=1)]\n",
    "    station_list = df_null['aq_station_id'].unique().tolist()\n",
    "    df_null = df_null.set_index(['aq_station_id'])\n",
    "    for station in station_list:\n",
    "        df_station = df_null.loc[station]\n",
    "        df_ow_cu = df_ow_new.loc[nearest_ow_dict[station][0][1]]\n",
    "\n",
    "        for index, row in df_station.iterrows():\n",
    "            try:\n",
    "                ow =  df_ow_cu.loc[row['time']]\n",
    "#                 print(ow)\n",
    "                for item in ['temperature','pressure','humidity','wind_speed']:\n",
    "#                     df_new_copy.set_value((station,row['time']),item,ow[item])\n",
    "                    df_new_copy.at[(station,row['time']),item] = ow[item]\n",
    "            except:\n",
    "                error_num+=1\n",
    "                for item in ['temperature','pressure','humidity','wind_speed']:\n",
    "                    last_hour_date_time = datetime.strptime(row['time'],'%Y-%m-%d %H:%M:%S') - timedelta(hours = 1)\n",
    "                    last_hour = last_hour_date_time.strftime('%Y-%m-%d %H:%M:%S')\n",
    "                    df_new_copy.at[(station,row['time']),item] = df_new_copy.at[(station,last_hour),item]\n",
    "#         break\n",
    "    print(error_num)\n",
    "    return df_new_copy.reset_index()\n",
    "\n",
    "# ss = fill_new_aqStations(nearest_ow_dict,df_new04,df_ow_stations_04)\n",
    "\n",
    "# ss.to_csv(AFTER_FILE_FOLDER % 'new_f04_no_missing.csv',index=False)"
   ]
  },
  {
   "cell_type": "code",
   "execution_count": 13,
   "metadata": {},
   "outputs": [
    {
     "name": "stdout",
     "output_type": "stream",
     "text": [
      "Index(['station_id', 'longitude', 'latitude', 'utc_time', 'temperature',\n",
      "       'pressure', 'humidity', 'wind_direction', 'wind_speed', 'weather'],\n",
      "      dtype='object')\n",
      "Index(['station_id', 'temperature', 'pressure', 'humidity', 'wind_speed',\n",
      "       'time', 'datetime'],\n",
      "      dtype='object')\n",
      "Index(['station_id', 'temperature', 'pressure', 'humidity', 'wind_speed',\n",
      "       'time', 'datetime'],\n",
      "      dtype='object')\n"
     ]
    },
    {
     "data": {
      "text/html": [
       "<div>\n",
       "<style scoped>\n",
       "    .dataframe tbody tr th:only-of-type {\n",
       "        vertical-align: middle;\n",
       "    }\n",
       "\n",
       "    .dataframe tbody tr th {\n",
       "        vertical-align: top;\n",
       "    }\n",
       "\n",
       "    .dataframe thead th {\n",
       "        text-align: right;\n",
       "    }\n",
       "</style>\n",
       "<table border=\"1\" class=\"dataframe\">\n",
       "  <thead>\n",
       "    <tr style=\"text-align: right;\">\n",
       "      <th></th>\n",
       "      <th>station_id</th>\n",
       "      <th>temperature</th>\n",
       "      <th>pressure</th>\n",
       "      <th>humidity</th>\n",
       "      <th>wind_speed</th>\n",
       "      <th>time</th>\n",
       "      <th>datetime</th>\n",
       "    </tr>\n",
       "  </thead>\n",
       "  <tbody>\n",
       "    <tr>\n",
       "      <th>0</th>\n",
       "      <td>shunyi_meo</td>\n",
       "      <td>-5.2</td>\n",
       "      <td>1025.1</td>\n",
       "      <td>36</td>\n",
       "      <td>2.0</td>\n",
       "      <td>2018-01-01 00:00:00</td>\n",
       "      <td>2018-01-01 00:00:00</td>\n",
       "    </tr>\n",
       "    <tr>\n",
       "      <th>1</th>\n",
       "      <td>shunyi_meo</td>\n",
       "      <td>-2.2</td>\n",
       "      <td>1026.0</td>\n",
       "      <td>28</td>\n",
       "      <td>2.1</td>\n",
       "      <td>2018-01-01 01:00:00</td>\n",
       "      <td>2018-01-01 01:00:00</td>\n",
       "    </tr>\n",
       "    <tr>\n",
       "      <th>2</th>\n",
       "      <td>shunyi_meo</td>\n",
       "      <td>-0.6</td>\n",
       "      <td>1026.6</td>\n",
       "      <td>23</td>\n",
       "      <td>2.7</td>\n",
       "      <td>2018-01-01 02:00:00</td>\n",
       "      <td>2018-01-01 02:00:00</td>\n",
       "    </tr>\n",
       "    <tr>\n",
       "      <th>3</th>\n",
       "      <td>shunyi_meo</td>\n",
       "      <td>1.0</td>\n",
       "      <td>1026.1</td>\n",
       "      <td>20</td>\n",
       "      <td>2.2</td>\n",
       "      <td>2018-01-01 03:00:00</td>\n",
       "      <td>2018-01-01 03:00:00</td>\n",
       "    </tr>\n",
       "    <tr>\n",
       "      <th>4</th>\n",
       "      <td>shunyi_meo</td>\n",
       "      <td>1.9</td>\n",
       "      <td>1024.9</td>\n",
       "      <td>16</td>\n",
       "      <td>3.6</td>\n",
       "      <td>2018-01-01 04:00:00</td>\n",
       "      <td>2018-01-01 04:00:00</td>\n",
       "    </tr>\n",
       "  </tbody>\n",
       "</table>\n",
       "</div>"
      ],
      "text/plain": [
       "   station_id  temperature  pressure  humidity  wind_speed  \\\n",
       "0  shunyi_meo         -5.2    1025.1        36         2.0   \n",
       "1  shunyi_meo         -2.2    1026.0        28         2.1   \n",
       "2  shunyi_meo         -0.6    1026.6        23         2.7   \n",
       "3  shunyi_meo          1.0    1026.1        20         2.2   \n",
       "4  shunyi_meo          1.9    1024.9        16         3.6   \n",
       "\n",
       "                  time            datetime  \n",
       "0  2018-01-01 00:00:00 2018-01-01 00:00:00  \n",
       "1  2018-01-01 01:00:00 2018-01-01 01:00:00  \n",
       "2  2018-01-01 02:00:00 2018-01-01 02:00:00  \n",
       "3  2018-01-01 03:00:00 2018-01-01 03:00:00  \n",
       "4  2018-01-01 04:00:00 2018-01-01 04:00:00  "
      ]
     },
     "execution_count": 13,
     "metadata": {},
     "output_type": "execute_result"
    }
   ],
   "source": [
    "df_ow_stations_1701_1801 = pd.read_csv(FILE_FOLDER%'observedWeather_201701-201801.csv')\n",
    "print(df_ow_stations_1701_1801.columns)\n",
    "df_ow_stations_1701_1801['datetime'] = pd.to_datetime(df_ow_stations_1701_1801['utc_time'])\n",
    "df_ow_stations_1801 = df_ow_stations_1701_1801[\n",
    "    df_ow_stations_1701_1801['datetime'] >='2018-01-01 00:00:00'\n",
    "]\n",
    "\n",
    "df_ow_stations_02_03 = pd.read_csv(FILE_FOLDER%'observedWeather_201802-201803.csv')\n",
    "df_ow_stations_02_03['datetime'] = pd.to_datetime(df_ow_stations_02_03['utc_time'])\n",
    "\n",
    "df_ow_stations_02_03.columns = ['station_id', 'time', 'weather', 'temperature', 'pressure',\n",
    "       'humidity', 'wind_speed', 'wind_direction', 'datetime']\n",
    "df_ow_stations_1801.columns = ['station_id', 'longitude', 'latitude', 'time', 'temperature',\n",
    "       'pressure', 'humidity', 'wind_direction', 'wind_speed', 'weather',\n",
    "       'datetime']\n",
    "selected_features = ['station_id', 'temperature', 'pressure','humidity', 'wind_speed', 'time', 'datetime']\n",
    "df_ow_stations_02_03 = df_ow_stations_02_03[selected_features]\n",
    "print(df_ow_stations_02_03.columns)\n",
    "df_ow_stations_1801 = df_ow_stations_1801[selected_features]\n",
    "print(df_ow_stations_1801.columns)\n",
    "df_ow_0103 = df_ow_stations_1801.append(df_ow_stations_02_03)\n",
    "df_ow_0103.reset_index(inplace = True)\n",
    "df_ow_0103 = df_ow_0103[selected_features]\n",
    "df_ow_0103.head()"
   ]
  },
  {
   "cell_type": "code",
   "execution_count": 14,
   "metadata": {},
   "outputs": [],
   "source": [
    "df_new0103 = pd.read_csv(AFTER_FILE_FOLDER % 'new_f0103.csv')\n",
    "df_ow_stations = pd.read_csv(AFTER_FILE_FOLDER % 'ob_weather_stations.csv')\n",
    "\n",
    "nearest_ow_dict = get_nearest_stations(df_ow_stations, 1)"
   ]
  },
  {
   "cell_type": "code",
   "execution_count": 23,
   "metadata": {},
   "outputs": [
    {
     "name": "stdout",
     "output_type": "stream",
     "text": [
      "140\n"
     ]
    }
   ],
   "source": [
    "df_after = fill_new_aqStations(nearest_ow_dict,df_new0103,df_ow_0103)"
   ]
  },
  {
   "cell_type": "code",
   "execution_count": 24,
   "metadata": {},
   "outputs": [],
   "source": [
    "# df_after[df_after.isnull().any(axis=1)]\n",
    "df_after.to_csv(AFTER_FILE_FOLDER % 'new_f0103_no_missing.csv',index=False)"
   ]
  },
  {
   "cell_type": "code",
   "execution_count": 83,
   "metadata": {},
   "outputs": [
    {
     "data": {
      "text/plain": [
       "dict_keys(['dongsi_aq', 'tiantan_aq', 'guanyuan_aq', 'wanshouxigong_aq', 'aotizhongxin_aq', 'nongzhanguan_aq', 'wanliu_aq', 'beibuxinqu_aq', 'zhiwuyuan_aq', 'fengtaihuayuan_aq', 'yungang_aq', 'gucheng_aq', 'fangshan_aq', 'daxing_aq', 'yizhuang_aq', 'tongzhou_aq', 'shunyi_aq', 'pingchang_aq', 'mentougou_aq', 'pinggu_aq', 'huairou_aq', 'miyun_aq', 'yanqin_aq', 'dingling_aq', 'badaling_aq', 'miyunshuiku_aq', 'donggaocun_aq', 'yongledian_aq', 'yufa_aq', 'liulihe_aq', 'qianmen_aq', 'yongdingmennei_aq', 'xizhimenbei_aq', 'nansanhuan_aq', 'dongsihuan_aq'])"
      ]
     },
     "execution_count": 83,
     "metadata": {},
     "output_type": "execute_result"
    }
   ],
   "source": [
    "nearest_ow_dict.keys()"
   ]
  },
  {
   "cell_type": "code",
   "execution_count": 75,
   "metadata": {},
   "outputs": [
    {
     "data": {
      "text/plain": [
       "str"
      ]
     },
     "execution_count": 75,
     "metadata": {},
     "output_type": "execute_result"
    }
   ],
   "source": [
    "last_hour_date_time = datetime.strptime('2018-04-01 16:00:00','%Y-%m-%d %H:%M:%S') - timedelta(hours = 1)\n",
    "type(last_hour_date_time.strftime('%Y-%m-%d %H:%M:%S'))"
   ]
  },
  {
   "cell_type": "code",
   "execution_count": null,
   "metadata": {},
   "outputs": [],
   "source": []
  }
 ],
 "metadata": {
  "kernelspec": {
   "display_name": "Python 3",
   "language": "python",
   "name": "python3"
  },
  "language_info": {
   "codemirror_mode": {
    "name": "ipython",
    "version": 3
   },
   "file_extension": ".py",
   "mimetype": "text/x-python",
   "name": "python",
   "nbconvert_exporter": "python",
   "pygments_lexer": "ipython3",
   "version": "3.6.7"
  }
 },
 "nbformat": 4,
 "nbformat_minor": 2
}
